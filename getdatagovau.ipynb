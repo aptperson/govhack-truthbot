{
 "cells": [
  {
   "cell_type": "code",
   "execution_count": 72,
   "metadata": {
    "collapsed": true
   },
   "outputs": [],
   "source": [
    "import requests\n",
    "import random"
   ]
  },
  {
   "cell_type": "code",
   "execution_count": 94,
   "metadata": {
    "collapsed": false
   },
   "outputs": [],
   "source": [
    "def get_datasets(keywords):\n",
    "    try:\n",
    "        keywords = keywords.split(',')\n",
    "        keywords = [keyword for keyword in keywords if 'Election' not in keyword]\n",
    "        for keyword in keywords:\n",
    "            url = \"http://data.gov.au/api/3/action/package_search?fq=tags:\" + str(keyword)\n",
    "            data = requests.get(url).json()\n",
    "            datasets = list()\n",
    "            if data['result']['count'] > 0:\n",
    "                for result in data['result']['results']:\n",
    "                    thisresult = dict()\n",
    "                    thisresult['name'] = result['resources'][0]['name']\n",
    "                    thisresult['url'] = result['resources'][0]['url']\n",
    "                    datasets.append(thisresult)\n",
    "            datsets = random.shuffle(datasets)\n",
    "        return datasets\n",
    "    except:\n",
    "        print (\"I am a teapot\")\n",
    "        return(\"\")"
   ]
  },
  {
   "cell_type": "code",
   "execution_count": 95,
   "metadata": {
    "collapsed": false
   },
   "outputs": [],
   "source": [
    "import pandas as pd"
   ]
  },
  {
   "cell_type": "code",
   "execution_count": 96,
   "metadata": {
    "collapsed": true
   },
   "outputs": [],
   "source": [
    "df = pd.read_pickle('allexplainers.pickle')"
   ]
  },
  {
   "cell_type": "code",
   "execution_count": 97,
   "metadata": {
    "collapsed": false
   },
   "outputs": [
    {
     "data": {
      "text/plain": [
       "'Coalition, Election factcheck 2016, Federal election 2016, General practice, Health, Labor Party, Liberal Party, Medicare, Medicare rebates, bulk-billing, factcheck'"
      ]
     },
     "execution_count": 97,
     "metadata": {},
     "output_type": "execute_result"
    }
   ],
   "source": [
    "df['keywords'][1]"
   ]
  },
  {
   "cell_type": "code",
   "execution_count": 98,
   "metadata": {
    "collapsed": false
   },
   "outputs": [
    {
     "name": "stdout",
     "output_type": "stream",
     "text": [
      "I am a teapot\n",
      "I am a teapot\n",
      "I am a teapot\n",
      "I am a teapot\n"
     ]
    }
   ],
   "source": [
    "df['datasets'] = df['keywords'].apply(get_datasets)"
   ]
  },
  {
   "cell_type": "code",
   "execution_count": 99,
   "metadata": {
    "collapsed": false
   },
   "outputs": [],
   "source": [
    "df2 = df[['link','datasets']]"
   ]
  },
  {
   "cell_type": "code",
   "execution_count": 100,
   "metadata": {
    "collapsed": false
   },
   "outputs": [
    {
     "data": {
      "text/html": [
       "<div>\n",
       "<table border=\"1\" class=\"dataframe\">\n",
       "  <thead>\n",
       "    <tr style=\"text-align: right;\">\n",
       "      <th></th>\n",
       "      <th>link</th>\n",
       "      <th>datasets</th>\n",
       "    </tr>\n",
       "  </thead>\n",
       "  <tbody>\n",
       "    <tr>\n",
       "      <th>0</th>\n",
       "      <td>http://theconversation.com/election-factcheck-...</td>\n",
       "      <td>[]</td>\n",
       "    </tr>\n",
       "    <tr>\n",
       "      <th>1</th>\n",
       "      <td>http://theconversation.com/election-factcheck-...</td>\n",
       "      <td>[]</td>\n",
       "    </tr>\n",
       "    <tr>\n",
       "      <th>2</th>\n",
       "      <td>http://theconversation.com/election-factcheck-...</td>\n",
       "      <td>[]</td>\n",
       "    </tr>\n",
       "    <tr>\n",
       "      <th>3</th>\n",
       "      <td>http://theconversation.com/election-factcheck-...</td>\n",
       "      <td>[]</td>\n",
       "    </tr>\n",
       "    <tr>\n",
       "      <th>4</th>\n",
       "      <td>http://theconversation.com/election-factcheck-...</td>\n",
       "      <td>[]</td>\n",
       "    </tr>\n",
       "    <tr>\n",
       "      <th>5</th>\n",
       "      <td>http://theconversation.com/election-factcheck-...</td>\n",
       "      <td></td>\n",
       "    </tr>\n",
       "    <tr>\n",
       "      <th>6</th>\n",
       "      <td>http://theconversation.com/election-factcheck-...</td>\n",
       "      <td>[]</td>\n",
       "    </tr>\n",
       "    <tr>\n",
       "      <th>7</th>\n",
       "      <td>http://theconversation.com/election-factcheck-...</td>\n",
       "      <td>[{'name': 'Labour Force', 'url': 'http://stat....</td>\n",
       "    </tr>\n",
       "    <tr>\n",
       "      <th>8</th>\n",
       "      <td>http://theconversation.com/election-factcheck-...</td>\n",
       "      <td>[]</td>\n",
       "    </tr>\n",
       "    <tr>\n",
       "      <th>9</th>\n",
       "      <td>http://theconversation.com/election-factcheck-...</td>\n",
       "      <td>[]</td>\n",
       "    </tr>\n",
       "    <tr>\n",
       "      <th>10</th>\n",
       "      <td>http://theconversation.com/election-factcheck-...</td>\n",
       "      <td>[]</td>\n",
       "    </tr>\n",
       "    <tr>\n",
       "      <th>11</th>\n",
       "      <td>NaN</td>\n",
       "      <td></td>\n",
       "    </tr>\n",
       "    <tr>\n",
       "      <th>12</th>\n",
       "      <td>http://theconversation.com/election-factcheck-...</td>\n",
       "      <td>[]</td>\n",
       "    </tr>\n",
       "    <tr>\n",
       "      <th>13</th>\n",
       "      <td>http://theconversation.com/election-factcheck-...</td>\n",
       "      <td>[]</td>\n",
       "    </tr>\n",
       "    <tr>\n",
       "      <th>14</th>\n",
       "      <td>http://theconversation.com/election-factcheck-...</td>\n",
       "      <td>[]</td>\n",
       "    </tr>\n",
       "    <tr>\n",
       "      <th>15</th>\n",
       "      <td>http://theconversation.com/factcheck-was-barna...</td>\n",
       "      <td>[]</td>\n",
       "    </tr>\n",
       "    <tr>\n",
       "      <th>16</th>\n",
       "      <td>http://theconversation.com/election-factcheck-...</td>\n",
       "      <td></td>\n",
       "    </tr>\n",
       "    <tr>\n",
       "      <th>17</th>\n",
       "      <td>http://theconversation.com/election-factcheck-...</td>\n",
       "      <td>[]</td>\n",
       "    </tr>\n",
       "    <tr>\n",
       "      <th>18</th>\n",
       "      <td>http://theconversation.com/factcheck-did-boat-...</td>\n",
       "      <td>[]</td>\n",
       "    </tr>\n",
       "    <tr>\n",
       "      <th>19</th>\n",
       "      <td>http://theconversation.com/election-factcheck-...</td>\n",
       "      <td>[]</td>\n",
       "    </tr>\n",
       "    <tr>\n",
       "      <th>20</th>\n",
       "      <td>NaN</td>\n",
       "      <td></td>\n",
       "    </tr>\n",
       "    <tr>\n",
       "      <th>21</th>\n",
       "      <td>http://abc.net.au/news/2016-06-15/fact-check-z...</td>\n",
       "      <td>[]</td>\n",
       "    </tr>\n",
       "    <tr>\n",
       "      <th>22</th>\n",
       "      <td>http://abc.net.au/news/2016-05-16/fact-check-z...</td>\n",
       "      <td>[{'name': 'Payroll tax base 2014/15', 'url': '...</td>\n",
       "    </tr>\n",
       "    <tr>\n",
       "      <th>23</th>\n",
       "      <td>http://abc.net.au/news/2016-04-20/julie-bishop...</td>\n",
       "      <td>[]</td>\n",
       "    </tr>\n",
       "    <tr>\n",
       "      <th>24</th>\n",
       "      <td>http://abc.net.au/news/2016-03-30/clive-palmer...</td>\n",
       "      <td>[]</td>\n",
       "    </tr>\n",
       "    <tr>\n",
       "      <th>25</th>\n",
       "      <td>http://abc.net.au/news/2016-03-24/frydenberg-e...</td>\n",
       "      <td>[]</td>\n",
       "    </tr>\n",
       "    <tr>\n",
       "      <th>26</th>\n",
       "      <td>http://abc.net.au/news/2016-03-22/albo-zombie/...</td>\n",
       "      <td>[]</td>\n",
       "    </tr>\n",
       "    <tr>\n",
       "      <th>27</th>\n",
       "      <td>http://abc.net.au/news/2016-02-22/negative-gea...</td>\n",
       "      <td>[]</td>\n",
       "    </tr>\n",
       "    <tr>\n",
       "      <th>28</th>\n",
       "      <td>http://abc.net.au/news/2016-02-19/tony-abbott-...</td>\n",
       "      <td>[]</td>\n",
       "    </tr>\n",
       "    <tr>\n",
       "      <th>29</th>\n",
       "      <td>http://abc.net.au/news/2014-11-28/fact-check-z...</td>\n",
       "      <td>[]</td>\n",
       "    </tr>\n",
       "    <tr>\n",
       "      <th>30</th>\n",
       "      <td>http://abc.net.au/news/2014-11-21/fact-check-z...</td>\n",
       "      <td>[]</td>\n",
       "    </tr>\n",
       "    <tr>\n",
       "      <th>31</th>\n",
       "      <td>http://abc.net.au/news/2014-10-31/fact-check-z...</td>\n",
       "      <td>[]</td>\n",
       "    </tr>\n",
       "    <tr>\n",
       "      <th>32</th>\n",
       "      <td>http://abc.net.au/news/2014-08-29/fact-check-z...</td>\n",
       "      <td>[]</td>\n",
       "    </tr>\n",
       "    <tr>\n",
       "      <th>33</th>\n",
       "      <td>http://abc.net.au/news/2014-08-22/fact-check-z...</td>\n",
       "      <td>[{'name': 'Business Indicators', 'url': 'http:...</td>\n",
       "    </tr>\n",
       "    <tr>\n",
       "      <th>34</th>\n",
       "      <td>http://abc.net.au/news/2014-07-24/fact-check-z...</td>\n",
       "      <td>[]</td>\n",
       "    </tr>\n",
       "    <tr>\n",
       "      <th>35</th>\n",
       "      <td>http://abc.net.au/news/2014-07-24/fact-check-z...</td>\n",
       "      <td>[]</td>\n",
       "    </tr>\n",
       "    <tr>\n",
       "      <th>36</th>\n",
       "      <td>http://abc.net.au/news/2014-07-24/fact-check-z...</td>\n",
       "      <td>[]</td>\n",
       "    </tr>\n",
       "    <tr>\n",
       "      <th>37</th>\n",
       "      <td>http://abc.net.au/news/2014-07-24/fact-check-z...</td>\n",
       "      <td>[]</td>\n",
       "    </tr>\n",
       "  </tbody>\n",
       "</table>\n",
       "</div>"
      ],
      "text/plain": [
       "                                                 link  \\\n",
       "0   http://theconversation.com/election-factcheck-...   \n",
       "1   http://theconversation.com/election-factcheck-...   \n",
       "2   http://theconversation.com/election-factcheck-...   \n",
       "3   http://theconversation.com/election-factcheck-...   \n",
       "4   http://theconversation.com/election-factcheck-...   \n",
       "5   http://theconversation.com/election-factcheck-...   \n",
       "6   http://theconversation.com/election-factcheck-...   \n",
       "7   http://theconversation.com/election-factcheck-...   \n",
       "8   http://theconversation.com/election-factcheck-...   \n",
       "9   http://theconversation.com/election-factcheck-...   \n",
       "10  http://theconversation.com/election-factcheck-...   \n",
       "11                                                NaN   \n",
       "12  http://theconversation.com/election-factcheck-...   \n",
       "13  http://theconversation.com/election-factcheck-...   \n",
       "14  http://theconversation.com/election-factcheck-...   \n",
       "15  http://theconversation.com/factcheck-was-barna...   \n",
       "16  http://theconversation.com/election-factcheck-...   \n",
       "17  http://theconversation.com/election-factcheck-...   \n",
       "18  http://theconversation.com/factcheck-did-boat-...   \n",
       "19  http://theconversation.com/election-factcheck-...   \n",
       "20                                                NaN   \n",
       "21  http://abc.net.au/news/2016-06-15/fact-check-z...   \n",
       "22  http://abc.net.au/news/2016-05-16/fact-check-z...   \n",
       "23  http://abc.net.au/news/2016-04-20/julie-bishop...   \n",
       "24  http://abc.net.au/news/2016-03-30/clive-palmer...   \n",
       "25  http://abc.net.au/news/2016-03-24/frydenberg-e...   \n",
       "26  http://abc.net.au/news/2016-03-22/albo-zombie/...   \n",
       "27  http://abc.net.au/news/2016-02-22/negative-gea...   \n",
       "28  http://abc.net.au/news/2016-02-19/tony-abbott-...   \n",
       "29  http://abc.net.au/news/2014-11-28/fact-check-z...   \n",
       "30  http://abc.net.au/news/2014-11-21/fact-check-z...   \n",
       "31  http://abc.net.au/news/2014-10-31/fact-check-z...   \n",
       "32  http://abc.net.au/news/2014-08-29/fact-check-z...   \n",
       "33  http://abc.net.au/news/2014-08-22/fact-check-z...   \n",
       "34  http://abc.net.au/news/2014-07-24/fact-check-z...   \n",
       "35  http://abc.net.au/news/2014-07-24/fact-check-z...   \n",
       "36  http://abc.net.au/news/2014-07-24/fact-check-z...   \n",
       "37  http://abc.net.au/news/2014-07-24/fact-check-z...   \n",
       "\n",
       "                                             datasets  \n",
       "0                                                  []  \n",
       "1                                                  []  \n",
       "2                                                  []  \n",
       "3                                                  []  \n",
       "4                                                  []  \n",
       "5                                                      \n",
       "6                                                  []  \n",
       "7   [{'name': 'Labour Force', 'url': 'http://stat....  \n",
       "8                                                  []  \n",
       "9                                                  []  \n",
       "10                                                 []  \n",
       "11                                                     \n",
       "12                                                 []  \n",
       "13                                                 []  \n",
       "14                                                 []  \n",
       "15                                                 []  \n",
       "16                                                     \n",
       "17                                                 []  \n",
       "18                                                 []  \n",
       "19                                                 []  \n",
       "20                                                     \n",
       "21                                                 []  \n",
       "22  [{'name': 'Payroll tax base 2014/15', 'url': '...  \n",
       "23                                                 []  \n",
       "24                                                 []  \n",
       "25                                                 []  \n",
       "26                                                 []  \n",
       "27                                                 []  \n",
       "28                                                 []  \n",
       "29                                                 []  \n",
       "30                                                 []  \n",
       "31                                                 []  \n",
       "32                                                 []  \n",
       "33  [{'name': 'Business Indicators', 'url': 'http:...  \n",
       "34                                                 []  \n",
       "35                                                 []  \n",
       "36                                                 []  \n",
       "37                                                 []  "
      ]
     },
     "execution_count": 100,
     "metadata": {},
     "output_type": "execute_result"
    }
   ],
   "source": [
    "df2"
   ]
  },
  {
   "cell_type": "code",
   "execution_count": 101,
   "metadata": {
    "collapsed": true
   },
   "outputs": [],
   "source": [
    "df2.to_pickle('datasets.pickle')"
   ]
  },
  {
   "cell_type": "code",
   "execution_count": null,
   "metadata": {
    "collapsed": true
   },
   "outputs": [],
   "source": []
  }
 ],
 "metadata": {
  "kernelspec": {
   "display_name": "Python [Root]",
   "language": "python",
   "name": "Python [Root]"
  },
  "language_info": {
   "codemirror_mode": {
    "name": "ipython",
    "version": 3
   },
   "file_extension": ".py",
   "mimetype": "text/x-python",
   "name": "python",
   "nbconvert_exporter": "python",
   "pygments_lexer": "ipython3",
   "version": "3.5.1"
  }
 },
 "nbformat": 4,
 "nbformat_minor": 0
}
