{
 "cells": [
  {
   "cell_type": "code",
   "execution_count": 1,
   "metadata": {
    "collapsed": true
   },
   "outputs": [],
   "source": [
    "%reload_ext autoreload\n",
    "%autoreload 1\n",
    "%aimport train"
   ]
  },
  {
   "cell_type": "code",
   "execution_count": 2,
   "metadata": {
    "collapsed": false
   },
   "outputs": [],
   "source": [
    "import numpy as np\n",
    "import pandas as pd\n",
    "import tensorflow as tf"
   ]
  },
  {
   "cell_type": "code",
   "execution_count": 3,
   "metadata": {
    "collapsed": true
   },
   "outputs": [],
   "source": [
    "tweet_df, vocab = train.load_data(num_docs=10000)"
   ]
  },
  {
   "cell_type": "code",
   "execution_count": 4,
   "metadata": {
    "collapsed": true
   },
   "outputs": [],
   "source": [
    "embedding_index_map = tweet_df[['id', 'text']]\n",
    "# embedding_index_map.to_pickle('embedding_index_map.pkl')"
   ]
  },
  {
   "cell_type": "code",
   "execution_count": 5,
   "metadata": {
    "collapsed": true
   },
   "outputs": [],
   "source": [
    "docs, contexts, targets = train.prepare_contexts(tweet_df)"
   ]
  },
  {
   "cell_type": "code",
   "execution_count": 6,
   "metadata": {
    "collapsed": false
   },
   "outputs": [],
   "source": [
    "tf.reset_default_graph()"
   ]
  },
  {
   "cell_type": "code",
   "execution_count": 7,
   "metadata": {
    "collapsed": false
   },
   "outputs": [],
   "source": [
    "# model = train.build_model(num_words = len(vocab), num_docs = len(tweet_df))\n",
    "\n",
    "# model = train.build_model(num_words = len(vocab), num_docs = len(tweet_df),\n",
    "#                           doc_embedding_size=20, word_embedding_size=50)"
   ]
  },
  {
   "cell_type": "code",
   "execution_count": 8,
   "metadata": {
    "collapsed": true
   },
   "outputs": [],
   "source": [
    "# model.load('nce_test_model-10371')"
   ]
  },
  {
   "cell_type": "code",
   "execution_count": 9,
   "metadata": {
    "collapsed": false
   },
   "outputs": [],
   "source": [
    "# e1, = model.net.graph.get_collection('layer_variables/Embedding/')\n",
    "# e2, = model.net.graph.get_collection('layer_variables/Embedding_1/')\n",
    "\n",
    "# doc_embedding = model.get_weights(e1)\n",
    "# word_embedding = model.get_weights(e2)"
   ]
  },
  {
   "cell_type": "code",
   "execution_count": 10,
   "metadata": {
    "collapsed": false
   },
   "outputs": [],
   "source": [
    "# train.train_model(model, docs, contexts, targets, num_words = len(vocab))"
   ]
  },
  {
   "cell_type": "code",
   "execution_count": 11,
   "metadata": {
    "collapsed": false
   },
   "outputs": [],
   "source": [
    "trainer, X1, X2, Y = train.build_nce_model(num_words = len(vocab), num_docs = len(tweet_df))"
   ]
  },
  {
   "cell_type": "code",
   "execution_count": 12,
   "metadata": {
    "collapsed": true
   },
   "outputs": [],
   "source": [
    "trainer.restore('nce_test_model-15558')"
   ]
  },
  {
   "cell_type": "code",
   "execution_count": 13,
   "metadata": {
    "collapsed": false
   },
   "outputs": [],
   "source": [
    "e1, = trainer.graph.get_collection('layer_variables/Embedding/')\n",
    "e2, = trainer.graph.get_collection('layer_variables/Embedding_1/')\n",
    "\n",
    "doc_embedding = e1.eval(session=trainer.session)\n",
    "word_embedding = e2.eval(session=trainer.session)"
   ]
  },
  {
   "cell_type": "code",
   "execution_count": 14,
   "metadata": {
    "collapsed": false
   },
   "outputs": [],
   "source": [
    "vocab = np.array(vocab)"
   ]
  },
  {
   "cell_type": "code",
   "execution_count": 15,
   "metadata": {
    "collapsed": false
   },
   "outputs": [],
   "source": [
    "doc_embedding_series = pd.Series(list(doc_embedding))\n",
    "embedding_index_map['embedding'] = doc_embedding_series"
   ]
  },
  {
   "cell_type": "code",
   "execution_count": 16,
   "metadata": {
    "collapsed": false
   },
   "outputs": [],
   "source": [
    "doc_embedding = np.stack(embedding_index_map.embedding.values)"
   ]
  },
  {
   "cell_type": "code",
   "execution_count": 17,
   "metadata": {
    "collapsed": false
   },
   "outputs": [],
   "source": [
    "doc_embedding_norm = doc_embedding / np.linalg.norm(doc_embedding, axis=1, keepdims=True)"
   ]
  },
  {
   "cell_type": "code",
   "execution_count": 33,
   "metadata": {
    "collapsed": false
   },
   "outputs": [
    {
     "name": "stdout",
     "output_type": "stream",
     "text": [
      "RT @AustralianLabor: \"We want to make sure that every kid in Australia has a great education through their school years.\" @tanya_plibersek…\n",
      "---\n",
      "RT @AustralianLabor: \"We want to make sure that every kid in Australia has a great education through their school years.\" @tanya_plibersek…\n",
      "---\n",
      "RT @JoshButler: . @GrahamPerrettMP has written us a really nice piece about tolerance and diversity in Australia https://t.co/1qPtgYFZlU\n",
      "---\n",
      "RT @BarackObama: Today's #SCOTUS ruling reaffirms that every woman has a right to make her own reproductive choices. https://t.co/uvgc9MgX3e\n",
      "---\n",
      "RT @PaulAndrews2043: Great to see this significant commitment in The Smith Family's Learning for Life. It's a program that really works. ht…\n",
      "---\n",
      "RT @shellzzz: Dylan Voller NT teen in custody has penned an open letter thanking Australia &amp; #FourCorners \n",
      "#Auspol Thank you Dylan https://…\n",
      "---\n",
      "RT @Vision2020Aus: .@Senator_McEwen has pledged to put a stop to avoidable blindness &amp; vision loss, thank you for showing South Australia y…\n",
      "---\n",
      "RT @Histreepix: From within his sealed box, Schrödinger's cat postulates that his master is simultaneously alive and dead. 1935. https://t.…\n",
      "---\n",
      "@perkinsmiki @smaccaroo \"sibling murder\" has a more accurate ring to it.\n",
      "---\n",
      "RT @terrimbutler: It seems Malcolm Turnbull has zero authority in his own cabinet. https://t.co/ElPRN6g2jC\n",
      "---\n",
      "RT @AngleseaAC: The SurfCoast community has spoken on fracking @wadenoonan. It'll never be accepted here! #VicGasBan #Springst @surfcoastno…\n",
      "---\n",
      "RT @RAAofSA: Good news: The PM has pledged $40 million to separate rail from road at Oaklands Crossing in a bid ease congestion @CityofMari…\n",
      "---\n",
      "@CameronAtfield \"The Abattoir Complex\" has a lovely ring to it.\n",
      "---\n",
      "@TimWattsMP Cause he really showed that Warren Truss what for, didn't he!\n",
      "---\n",
      "Look at that speckled air. Paints a pretty picture but expect it will be a big one (20m south swells &amp; snow to sea?) https://t.co/pgS6IDaHT4\n",
      "---\n",
      ".@wifesapprentice GP co-payments, cuts to bulk-billing, indexation freezes - all a threat to Medicare\n",
      "---\n",
      "The Turnbull Govt too obsessed demonising asylum seekers that corruption inside their own immigration dept runs rife #competence #ausvotes\n",
      "---\n",
      "@gip1972 played that axe like nobody's business\n",
      "---\n",
      "RT @1millionwomen: \"We've released a plan that will see us having 90% renewable energy by 2030\" @larissawaters #1mwlivechat\n",
      "---\n",
      "RT @FJKeany: Frydenberg - \"The numbers are not there\" to pass ABCC bill in a joint sitting #insiders\n",
      "---\n"
     ]
    }
   ],
   "source": [
    "doc = doc_embedding_norm[90]\n",
    "dist_sort_idx = np.argsort(np.sum(doc * doc_embedding_norm, axis=1))[::-1]\n",
    "for t in embedding_index_map.iloc[dist_sort_idx].head(20).text:\n",
    "    print(t)\n",
    "    print('---')"
   ]
  },
  {
   "cell_type": "code",
   "execution_count": 19,
   "metadata": {
    "collapsed": false
   },
   "outputs": [
    {
     "data": {
      "text/plain": [
       "array([[-0.38929254,  0.01207909, -0.04467954, ..., -0.19292682,\n",
       "         0.07984687, -1.03046072],\n",
       "       [-0.32872912,  0.30992517, -0.24009758, ..., -0.27698398,\n",
       "         0.23048559, -0.26663733],\n",
       "       [-0.46030429,  0.11352346, -0.25810084, ..., -0.4582504 ,\n",
       "         0.07160532, -0.62094343],\n",
       "       ..., \n",
       "       [-0.30013731,  0.23166288, -0.18382449, ..., -0.19291772,\n",
       "         0.20352048, -0.19774315],\n",
       "       [-0.19427742,  0.18279101, -0.18957567, ..., -0.11355067,\n",
       "         0.17502984, -0.15607339],\n",
       "       [-0.17220894,  0.20476863, -0.31887984, ..., -0.48404208,\n",
       "         0.01030864, -0.95863378]], dtype=float32)"
      ]
     },
     "execution_count": 19,
     "metadata": {},
     "output_type": "execute_result"
    }
   ],
   "source": [
    "word_embedding"
   ]
  },
  {
   "cell_type": "code",
   "execution_count": 20,
   "metadata": {
    "collapsed": false
   },
   "outputs": [],
   "source": [
    "word_embedding_norm = word_embedding / np.linalg.norm(word_embedding, axis=1, keepdims=True)"
   ]
  },
  {
   "cell_type": "code",
   "execution_count": 21,
   "metadata": {
    "collapsed": true
   },
   "outputs": [],
   "source": [
    "word_to_vocab = {w: i for i, w in enumerate(vocab)}\n",
    "\n",
    "def e(s):\n",
    "    return word_embedding[word_to_vocab[s]]"
   ]
  },
  {
   "cell_type": "code",
   "execution_count": 36,
   "metadata": {
    "collapsed": false,
    "scrolled": false
   },
   "outputs": [
    {
     "name": "stdout",
     "output_type": "stream",
     "text": [
      "Billson\n",
      "PortAdelaide\n",
      "AusPol\n",
      "Strike\n",
      "closures\n",
      "SpringSt\n",
      "100s\n",
      "loud\n",
      "MyLiberal\n",
      "skin\n",
      "recipient\n",
      "mid\n",
      "cane\n",
      "@eleanorbloom\n",
      "@SwannyDPM\n",
      "crews\n",
      "parks\n",
      "BER\n",
      "projections\n",
      "supertrawler\n"
     ]
    }
   ],
   "source": [
    "turnbull = e('@TurnbullMalcolm')\n",
    "shorten = e('@billshortenmp')\n",
    "liberal = e('Liberal')\n",
    "labor = e('Labor')\n",
    "\n",
    "# word = turnbull - liberal + labor\n",
    "# word = shorten - labor + liberal\n",
    "\n",
    "word = e('plebiscite') - e('gay') - e('straight')\n",
    "\n",
    "# word = e('Liberal')\n",
    "# word = e('Labor')\n",
    "\n",
    "word_norm = word / np.linalg.norm(word)\n",
    "dist_sort_idx = np.argsort(np.sum(word_norm * word_embedding_norm, axis=1))[::-1]\n",
    "for t in vocab[dist_sort_idx[:20]]:\n",
    "    print(t)"
   ]
  },
  {
   "cell_type": "code",
   "execution_count": null,
   "metadata": {
    "collapsed": true
   },
   "outputs": [],
   "source": []
  }
 ],
 "metadata": {
  "kernelspec": {
   "display_name": "Python [py3]",
   "language": "python",
   "name": "Python [py3]"
  },
  "language_info": {
   "codemirror_mode": {
    "name": "ipython",
    "version": 3
   },
   "file_extension": ".py",
   "mimetype": "text/x-python",
   "name": "python",
   "nbconvert_exporter": "python",
   "pygments_lexer": "ipython3",
   "version": "3.5.2"
  }
 },
 "nbformat": 4,
 "nbformat_minor": 0
}
