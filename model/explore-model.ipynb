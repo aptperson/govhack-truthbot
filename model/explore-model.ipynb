{
 "cells": [
  {
   "cell_type": "code",
   "execution_count": 1,
   "metadata": {
    "collapsed": true
   },
   "outputs": [],
   "source": [
    "%reload_ext autoreload\n",
    "%autoreload 1\n",
    "%aimport train"
   ]
  },
  {
   "cell_type": "code",
   "execution_count": 2,
   "metadata": {
    "collapsed": false
   },
   "outputs": [],
   "source": [
    "import numpy as np\n",
    "import pandas as pd\n",
    "import tensorflow as tf"
   ]
  },
  {
   "cell_type": "code",
   "execution_count": 3,
   "metadata": {
    "collapsed": true
   },
   "outputs": [],
   "source": [
    "# tweet_df, vocab = train.load_data(num_docs=10000)\n",
    "# embedding_index_map = tweet_df[['id', 'text']]\n",
    "# embedding_index_map.to_pickle('embedding_index_map.pkl')"
   ]
  },
  {
   "cell_type": "code",
   "execution_count": 4,
   "metadata": {
    "collapsed": false
   },
   "outputs": [],
   "source": [
    "embedding_index_map = pd.read_pickle('embedding_index_map.pkl')"
   ]
  },
  {
   "cell_type": "code",
   "execution_count": 5,
   "metadata": {
    "collapsed": true
   },
   "outputs": [],
   "source": [
    "import pickle\n",
    "with open('tweet_vocab.pkl', 'rb') as f:\n",
    "    vocab = pickle.load(f)\n",
    "    vocab = np.array(vocab)"
   ]
  },
  {
   "cell_type": "code",
   "execution_count": 6,
   "metadata": {
    "collapsed": false
   },
   "outputs": [],
   "source": [
    "# docs, contexts, targets = train.prepare_contexts(tweet_df)"
   ]
  },
  {
   "cell_type": "code",
   "execution_count": 7,
   "metadata": {
    "collapsed": false
   },
   "outputs": [],
   "source": [
    "# tf.reset_default_graph()"
   ]
  },
  {
   "cell_type": "code",
   "execution_count": 8,
   "metadata": {
    "collapsed": false
   },
   "outputs": [],
   "source": [
    "# model = train.build_model(num_words = len(vocab), num_docs = len(tweet_df))\n",
    "\n",
    "# model = train.build_model(num_words = len(vocab), num_docs = len(tweet_df),\n",
    "#                           doc_embedding_size=20, word_embedding_size=50)"
   ]
  },
  {
   "cell_type": "code",
   "execution_count": 9,
   "metadata": {
    "collapsed": true
   },
   "outputs": [],
   "source": [
    "# model.load('nce_test_model-10371')"
   ]
  },
  {
   "cell_type": "code",
   "execution_count": 10,
   "metadata": {
    "collapsed": false
   },
   "outputs": [],
   "source": [
    "# e1, = model.net.graph.get_collection('layer_variables/Embedding/')\n",
    "# e2, = model.net.graph.get_collection('layer_variables/Embedding_1/')\n",
    "\n",
    "# doc_embedding = model.get_weights(e1)\n",
    "# word_embedding = model.get_weights(e2)"
   ]
  },
  {
   "cell_type": "code",
   "execution_count": 11,
   "metadata": {
    "collapsed": false
   },
   "outputs": [],
   "source": [
    "# train.train_model(model, docs, contexts, targets, num_words = len(vocab))"
   ]
  },
  {
   "cell_type": "code",
   "execution_count": 12,
   "metadata": {
    "collapsed": false
   },
   "outputs": [],
   "source": [
    "trainer, X1, X2, Y = train.build_nce_model(num_words = len(vocab), num_docs = len(embedding_index_map))"
   ]
  },
  {
   "cell_type": "code",
   "execution_count": 13,
   "metadata": {
    "collapsed": true
   },
   "outputs": [],
   "source": [
    "trainer.restore('nce_test_model-46674')"
   ]
  },
  {
   "cell_type": "code",
   "execution_count": 14,
   "metadata": {
    "collapsed": false
   },
   "outputs": [],
   "source": [
    "e1, = trainer.graph.get_collection('layer_variables/Embedding/')\n",
    "e2, = trainer.graph.get_collection('layer_variables/Embedding_1/')\n",
    "\n",
    "doc_embedding = e1.eval(session=trainer.session)\n",
    "word_embedding = e2.eval(session=trainer.session)"
   ]
  },
  {
   "cell_type": "code",
   "execution_count": 16,
   "metadata": {
    "collapsed": false
   },
   "outputs": [],
   "source": [
    "doc_embedding_series = pd.Series(list(doc_embedding))\n",
    "embedding_index_map['embedding'] = doc_embedding_series"
   ]
  },
  {
   "cell_type": "code",
   "execution_count": 17,
   "metadata": {
    "collapsed": false
   },
   "outputs": [],
   "source": [
    "doc_embedding = np.stack(embedding_index_map.embedding.values)"
   ]
  },
  {
   "cell_type": "code",
   "execution_count": 18,
   "metadata": {
    "collapsed": false
   },
   "outputs": [],
   "source": [
    "doc_embedding_norm = doc_embedding / np.linalg.norm(doc_embedding, axis=1, keepdims=True)"
   ]
  },
  {
   "cell_type": "code",
   "execution_count": 19,
   "metadata": {
    "collapsed": false
   },
   "outputs": [
    {
     "name": "stdout",
     "output_type": "stream",
     "text": [
      "--- 1.0\n",
      "RT @JulieBishopMP: My statement tonight in response to decision in Philippines arbitration case on South China Sea https://t.co/H7e1tjaace\n",
      "--- 0.96\n",
      "My statement tonight in response to decision in Philippines arbitration case on South China Sea https://t.co/H7e1tjaace\n",
      "--- 0.73\n",
      "RT @geoff_p_wade: India Assisting Philippines in Getting Warship to Patrol South China Sea\n",
      "https://t.co/e1d5ght64U https://t.co/bBb5cq1c2D\n",
      "--- 0.69\n",
      "My statement regarding the unfolding situation in Turkey https://t.co/TVKRsZETwG\n",
      "--- 0.67\n",
      "Philippines wins South China Sea case against China.Fasten seat belts @spellar @9DashLine @wildgees8 @narendramodi  https://t.co/NfPEAu9gVi\n",
      "--- 0.66\n",
      "RT @CAREAustralia: MEDIA RELEASE: CARE statement on outbreak of violence in South Sudan https://t.co/Ng3SswZd4C #SouthSudan\n",
      "--- 0.64\n",
      "RT @JosephScales: Territorians Demand Better\n",
      "@ASUnion statement on @4corners' \"Australia's shame\" #4Corners #ntpol #auspol https://t.co/gXN…\n",
      "--- 0.63\n",
      "RT @i24NEWS_EN: US tries to defuse South China Sea strife with subtle diplomacy https://t.co/9E8dUnE16y https://t.co/DCG2rq4VRh\n",
      "--- 0.62\n",
      "RT @CNORichardson: State Department statement on today’s decision on the Philippines-China Arbitration\n",
      "https://t.co/daI0VDIjqQ\n",
      "--- 0.62\n",
      "RT @ellenwhinnett: Former minister @stuartrobertmp in the clear over trip to China @Fiona_HS @theheraldsun #auspol https://t.co/Xq7HycNWr6\n",
      "--- 0.62\n",
      "RT @damonheraldsun: Tomorrow's @theheraldsun front page tonight @J_C_Campbell #auspol #ausvotes #springst https://t.co/X5oug7cWZn\n",
      "--- 0.62\n",
      "RT @damonheraldsun: Tomorrow's @theheraldsun front page tonight  #ausvotes #auspol #springst @J_C_Campbell https://t.co/TVCR79UqPZ\n",
      "--- 0.6\n",
      "RT @jamie86: Foreign minister @JulieBishopMP visiting Westfield Carindale @AAPNewswire #auspol https://t.co/6IsAKZyPwP\n",
      "--- 0.59\n",
      "My interview on ABC AM this morning re Philippines arbitration decision: https://t.co/l3Fr5O3bG8\n",
      "--- 0.58\n",
      "RT @vanOnselenP: My column in today's @australian https://t.co/AMDBCz7Kna\n",
      "--- 0.58\n",
      "Full statement here: https://t.co/hUazihuBdi\n",
      "--- 0.57\n",
      "RT @SwannyQLD: S&amp;P's decision isn't surprising. Libs $50Bn unfunded corporate tax cut undermines Australia’s medium term econ outlook #ausp…\n",
      "--- 0.57\n",
      "Solidarity forever. My sister's bracelets. #NiceAttack https://t.co/QjiiboSMmC\n",
      "--- 0.56\n",
      "RT @ChristineMilne: “@ABChealthonline: Disabled surfers find healing in riding waves https://t.co/y1PDKSN06n https://t.co/hbz2dbs1uX” @Sena…\n",
      "--- 0.56\n",
      "Congratulations to Screen Australia for helping to finance Reindeer in My Saami Heart. Important indigenous issues https://t.co/RGoeu18KLf\n",
      "--- 0.56\n",
      "RT @jmohanmalik: \"Hun Sen, by undermining Asean in this way, is antagonizing Singapore, Indonesia,Malaysia,the Philippines &amp; Vietnam\" https…\n",
      "--- 0.56\n",
      "My mantra 👊 #polilyf #inspo #politas #auspol https://t.co/qMMIJ8f7yG\n",
      "--- 0.55\n",
      "RT @damonheraldsun: Tomorrow's @theheraldsun front page tonight  #ausvotes #auspol #springst  @ellenwhinnett @J_C_Campbell https://t.co/6Nj…\n",
      "--- 0.55\n",
      "RT @jenmagee79: @MattWordsworth speaks to @fitzhunter on @abc730 tonight https://t.co/hgWlQvEORT\n",
      "--- 0.55\n",
      "RT @4corners: #4Corners Dr Howard Bath, formerly of @NTChildCommish on conditions he's seen in juvenile prison. https://t.co/xSBmBEfj45\n"
     ]
    }
   ],
   "source": [
    "doc = doc_embedding_norm[2011]\n",
    "doc = doc_embedding_norm[2012]\n",
    "doc = doc_embedding_norm[2013]\n",
    "doc = doc_embedding_norm[3008]\n",
    "# doc = doc_embedding_norm[3009]\n",
    "# doc = doc_embedding_norm[3012]\n",
    "# doc = doc_embedding_norm[4000]\n",
    "# doc = doc_embedding_norm[4005]\n",
    "# doc = doc_embedding_norm[5000]\n",
    "\n",
    "\n",
    "\n",
    "dist = np.sum(doc * doc_embedding_norm, axis=1)\n",
    "dist_sort_idx = np.argsort(dist)[::-1]\n",
    "for i in dist_sort_idx[:25]:\n",
    "    t = embedding_index_map.iloc[i].text\n",
    "    d = dist[i]\n",
    "    print('---', np.round(d, 2))\n",
    "    print(t)"
   ]
  },
  {
   "cell_type": "code",
   "execution_count": 20,
   "metadata": {
    "collapsed": false
   },
   "outputs": [
    {
     "data": {
      "text/plain": [
       "array([[ 0.00811615,  0.33195242,  0.02794582, ...,  0.02337269,\n",
       "         0.37292427,  0.02534793],\n",
       "       [ 0.43378973,  0.16321877, -0.44235185, ..., -0.32641962,\n",
       "         0.11443402,  0.337322  ],\n",
       "       [ 0.30983815,  0.45335525, -0.35523674, ..., -0.66587758,\n",
       "         0.72239882, -0.09830879],\n",
       "       ..., \n",
       "       [ 0.27629414,  0.24649541, -0.75071871, ..., -0.72112411,\n",
       "         0.20808861,  0.2646122 ],\n",
       "       [ 0.13015598, -0.01973688, -0.14896594, ...,  0.00254449,\n",
       "         0.04784201,  0.33622169],\n",
       "       [-0.09753007,  0.11830678, -0.08986864, ..., -0.11848716,\n",
       "         0.09942216,  0.12464163]], dtype=float32)"
      ]
     },
     "execution_count": 20,
     "metadata": {},
     "output_type": "execute_result"
    }
   ],
   "source": [
    "word_embedding"
   ]
  },
  {
   "cell_type": "code",
   "execution_count": 21,
   "metadata": {
    "collapsed": false
   },
   "outputs": [],
   "source": [
    "word_embedding_norm = word_embedding / np.linalg.norm(word_embedding, axis=1, keepdims=True)"
   ]
  },
  {
   "cell_type": "code",
   "execution_count": 22,
   "metadata": {
    "collapsed": true
   },
   "outputs": [],
   "source": [
    "word_to_vocab = {w: i for i, w in enumerate(vocab)}\n",
    "\n",
    "def e(s):\n",
    "    return word_embedding[word_to_vocab[s]]"
   ]
  },
  {
   "cell_type": "code",
   "execution_count": 23,
   "metadata": {
    "collapsed": false,
    "scrolled": false
   },
   "outputs": [
    {
     "name": "stdout",
     "output_type": "stream",
     "text": [
      "0.73 Turnbull\n",
      "0.68 Labor\n",
      "0.49 @theheraldsun\n",
      "0.47 Joyce\n",
      "0.47 Coalition\n",
      "0.46 @AdamBandt\n",
      "0.45 name\n",
      "0.45 Europe\n",
      "0.44 complete\n",
      "0.44 1/3\n",
      "0.44 lifestyle\n",
      "0.43 quotes\n",
      "0.43 Mannoun\n",
      "0.43 Cafe\n",
      "0.43 VIC\n",
      "0.42 legislate\n",
      "0.42 bill\n",
      "0.42 Oppn\n",
      "0.42 Australia\n",
      "0.42 mum\n",
      "0.42 @AustralianLabor\n",
      "0.42 Trump\n",
      "0.41 mths\n",
      "0.41 issue\n",
      "0.41 Ovarian\n"
     ]
    }
   ],
   "source": [
    "turnbull = e('Turnbull')\n",
    "shorten = e('Shorten')\n",
    "liberal = e('Liberal')\n",
    "labor = e('Labor')\n",
    "\n",
    "word = turnbull - liberal + labor\n",
    "# word = shorten - labor + liberal\n",
    "\n",
    "# word = e('plebiscite') - e('gay') - e('straight')\n",
    "\n",
    "# word = e('Liberal')\n",
    "# word = e('Labor')\n",
    "# word = e('Greens')\n",
    "# word = e('plebiscite')\n",
    "# word = e('gay')\n",
    "# word = e('sexism')\n",
    "# word = e('budget')\n",
    "# word = e('tax')\n",
    "# word = e('debt')\n",
    "# word = e('unemployment')\n",
    "# word = e('foreign')\n",
    "# word = e('TPP')\n",
    "# word = e('anger')\n",
    "# word = e('pollution')\n",
    "\n",
    "word_norm = word / np.linalg.norm(word)\n",
    "dist = np.sum(word_norm * word_embedding_norm, axis=1)\n",
    "dist_sort_idx = np.argsort(dist)[::-1]\n",
    "for i in dist_sort_idx[:25]:\n",
    "    t = vocab[i]\n",
    "    d = dist[i]\n",
    "    print(np.round(d, 2), t)"
   ]
  }
 ],
 "metadata": {
  "kernelspec": {
   "display_name": "Python [py3]",
   "language": "python",
   "name": "Python [py3]"
  },
  "language_info": {
   "codemirror_mode": {
    "name": "ipython",
    "version": 3
   },
   "file_extension": ".py",
   "mimetype": "text/x-python",
   "name": "python",
   "nbconvert_exporter": "python",
   "pygments_lexer": "ipython3",
   "version": "3.5.2"
  }
 },
 "nbformat": 4,
 "nbformat_minor": 0
}
