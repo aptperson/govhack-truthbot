{
 "cells": [
  {
   "cell_type": "code",
   "execution_count": 2,
   "metadata": {
    "collapsed": true
   },
   "outputs": [],
   "source": [
    "%reload_ext autoreload\n",
    "%autoreload 1\n",
    "%aimport train"
   ]
  },
  {
   "cell_type": "code",
   "execution_count": 21,
   "metadata": {
    "collapsed": false
   },
   "outputs": [],
   "source": [
    "import pandas as pd\n",
    "import numpy as np"
   ]
  },
  {
   "cell_type": "code",
   "execution_count": 78,
   "metadata": {
    "collapsed": false
   },
   "outputs": [],
   "source": [
    "num_docs = 10000\n",
    "\n",
    "tweet_df = pd.read_pickle('tweet_data_tokenized.pkl')\n",
    "tweet_df = tweet_df.sort_values(by='id', ascending=False)\n",
    "tweet_df = tweet_df.head(num_docs)\n",
    "tweet_df = tweet_df.reset_index()"
   ]
  },
  {
   "cell_type": "code",
   "execution_count": 94,
   "metadata": {
    "collapsed": true
   },
   "outputs": [],
   "source": [
    "import pickle\n",
    "\n",
    "with open('tweet_vocab.pkl', 'rb') as f:\n",
    "    vocab = pickle.load(f)"
   ]
  },
  {
   "cell_type": "code",
   "execution_count": 79,
   "metadata": {
    "collapsed": false
   },
   "outputs": [],
   "source": [
    "def build_context(v, context_size=3):\n",
    "    k = context_size\n",
    "    v = np.lib.pad(v, (k,0), 'constant', constant_values=(-1))\n",
    "    for i in range(len(v) - k):\n",
    "        yield v[i:i+k],v[i+k]\n",
    "\n",
    "data = [(tweet_id, context, target) for tweet_id, words in tweet_df.tokenized.iteritems() for context, target in build_context(words)]\n",
    "\n",
    "docs     = np.array([x[0] for x in data])\n",
    "contexts = np.array([x[1] for x in data])\n",
    "targets  = np.array([x[2] for x in data])"
   ]
  },
  {
   "cell_type": "code",
   "execution_count": 84,
   "metadata": {
    "collapsed": false
   },
   "outputs": [],
   "source": [
    "import tensorflow as tf\n",
    "import tflearn"
   ]
  },
  {
   "cell_type": "code",
   "execution_count": 131,
   "metadata": {
    "collapsed": true
   },
   "outputs": [],
   "source": [
    "g = tf.Graph()"
   ]
  },
  {
   "cell_type": "code",
   "execution_count": 132,
   "metadata": {
    "collapsed": false
   },
   "outputs": [],
   "source": [
    "num_words = len(vocab)\n",
    "\n",
    "with g.as_default():\n",
    "    input_layer = tflearn.input_data(shape=[None, 1])\n",
    "    embedding_layer, = tflearn.embedding(input_layer, input_dim=num_docs, output_dim=100)\n",
    "    softmax = tflearn.fully_connected(embedding_layer, num_words, activation='softmax')\n",
    "\n",
    "    sgd = tflearn.SGD(learning_rate=0.1, lr_decay=0.96, decay_step=1000)\n",
    "    top_k = tflearn.metrics.Top_k(3)\n",
    "    net = tflearn.regression(softmax, optimizer=sgd, metric=top_k,\n",
    "                             loss='categorical_crossentropy')"
   ]
  },
  {
   "cell_type": "code",
   "execution_count": 133,
   "metadata": {
    "collapsed": true
   },
   "outputs": [],
   "source": [
    "with g.as_default():\n",
    "    model = tflearn.DNN(net, tensorboard_verbose=0)"
   ]
  },
  {
   "cell_type": "code",
   "execution_count": null,
   "metadata": {
    "collapsed": false
   },
   "outputs": [
    {
     "name": "stdout",
     "output_type": "stream",
     "text": [
      "Training Step: 3890  | total loss: \u001b[1m\u001b[32m6.55533\u001b[0m\u001b[0m\n",
      "\u001b[2K\r",
      "| SGD | epoch: 001 | loss: 6.55533 - top3: 0.2909 -- iter: 083008/165934\n"
     ]
    }
   ],
   "source": [
    "with g.as_default():\n",
    "    X = docs[:,np.newaxis]\n",
    "    Y = tflearn.data_utils.to_categorical(targets, num_words)\n",
    "    model.fit(X, Y, n_epoch=20, show_metric=True, run_id=\"dense_model\")"
   ]
  },
  {
   "cell_type": "code",
   "execution_count": null,
   "metadata": {
    "collapsed": true
   },
   "outputs": [],
   "source": []
  }
 ],
 "metadata": {
  "kernelspec": {
   "display_name": "Python [py3]",
   "language": "python",
   "name": "Python [py3]"
  },
  "language_info": {
   "codemirror_mode": {
    "name": "ipython",
    "version": 3
   },
   "file_extension": ".py",
   "mimetype": "text/x-python",
   "name": "python",
   "nbconvert_exporter": "python",
   "pygments_lexer": "ipython3",
   "version": "3.5.2"
  }
 },
 "nbformat": 4,
 "nbformat_minor": 0
}
