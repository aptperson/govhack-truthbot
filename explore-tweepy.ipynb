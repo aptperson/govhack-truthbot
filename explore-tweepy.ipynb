{
 "cells": [
  {
   "cell_type": "code",
   "execution_count": 2,
   "metadata": {
    "collapsed": true
   },
   "outputs": [],
   "source": [
    "import tweepy"
   ]
  },
  {
   "cell_type": "code",
   "execution_count": 15,
   "metadata": {
    "collapsed": true
   },
   "outputs": [],
   "source": [
    "consumer_key = 'sS25OzYp60Ghi81D5Jwx8KFiC'\n",
    "consumer_secret = 'Z4wTkRCs2Yx31r6YWtsHbs1GEE08NChHGWndDAsKNyCJ7I4uVT'\n",
    "\n",
    "access_token = '758106823786242048-qZK96DAGsHohztTieWyWHsJsRBBzJnf'\n",
    "access_token_secret = 'AvqkYvAnPpoLqSgLgWrNAfqEPHzfrYIlLZZBDlgbd5zq5'"
   ]
  },
  {
   "cell_type": "code",
   "execution_count": 16,
   "metadata": {
    "collapsed": false
   },
   "outputs": [
    {
     "name": "stdout",
     "output_type": "stream",
     "text": [
      "Good to see the Coalition's 1st Cabinet meeting was water-tight #noleaks #strongunited #auspol https://t.co/Ahh2TfHEzU\n",
      "Even better: we can all go to La Dolce Vita &amp; let them cook for us! Not sure Pokemon Go is in my charter letter https://t.co/0Kt8EL0jgV\n",
      "RT @Edexperience: Dr John and Federal Meber for Robertson, Lucy Wicks MP, celebrating the launch of Twitch https://t.co/FFoGskac73\n",
      "If being former PM is reason enough to be nominated for Sec Gen to UN, why don't we nominate @TonyAbbottMHR ?\n",
      "😂 how true is this #polilyf #ageing #graceful https://t.co/rbW4dveoAd\n",
      "Congratulations David Headon and @CMAG on a terrific exhibition. Thanks @MennaRawlings for officially opening. https://t.co/6GAAVXRgvc\n",
      "Today the AG &amp; I announced Brian Martin QC as Royal Commissioner into youth detention in NT https://t.co/2LcQ717U0U https://t.co/IXmfphlFnV\n",
      "RT @safeatworkUNION: #Asbestos imports continue unabated whilst @SenatorCash focuses on \"independent\" review of asbestos agency #auspol htt…\n",
      "RT @FightingTories: ♫Yesterday, all my problems seemed far away \n",
      "I thought I was here to stay♫\n",
      "♫I'm not 1/2 the man I use to be\n",
      "Oh I -- htt…\n",
      "Nice pizza: La Dolce Vita, Kingston. Seems a pity to leave one piece @rharris334 @workmanalice @srpeatling #auspol https://t.co/ODXjmc3xzG\n",
      "RT @Nat_Irrigators: One thing Canberra isn't short of is kangaroos https://t.co/bHiOEkE0SB\n",
      "About to chat to the team on @theprojecttv\n",
      "With @JimMaddenMP &amp; @rdaiwm CEO &amp; Chair at launch of \"This is Our Region\" report @BrookwaterGolf1 @springfieldQLD https://t.co/d7XzZvoSbS\n",
      "Never a truer word spoken. @SenJohnMcCain a hero. https://t.co/QqEQaxmH4A\n",
      "RT @MatthewGuyMP: Daniel Andrews finally admits Victoria has a crime problem, but refuses to hire more Police or stop closing Police statio…\n",
      "RT @Rashidajourno: Labor is deeply disappointed it hasn't been consulted on terms of ref, royal commissioner, Plibersek says #auspol https:…\n",
      ".@samdastyari @Shorten_Suite Wow chip off the old block! Happy birthday Sam xx\n",
      "RT @JoshBBornstein: My column: how to end the spate of wage theft scandals at #7eleven &amp; now @woolworths . \n",
      "#auslaw \n",
      "https://t.co/WaoMhxtd1P\n",
      "RT @BettyR1972: @corybernardi @keysartrad \n",
      "Cathnews item: Cardinal Burke says Islam wants to govern the world. https://t.co/zVdA0to4mw\n",
      "A real pleasure to be part of the opening ceremony for the new Rockdale City Council Library. https://t.co/zvyzzNXfWi\n"
     ]
    }
   ],
   "source": [
    "auth = tweepy.OAuthHandler(consumer_key, consumer_secret)\n",
    "auth.set_access_token(access_token, access_token_secret)\n",
    "\n",
    "api = tweepy.API(auth)\n",
    "\n",
    "public_tweets = api.home_timeline()\n",
    "for tweet in public_tweets:\n",
    "    print(tweet.text)"
   ]
  },
  {
   "cell_type": "code",
   "execution_count": 17,
   "metadata": {
    "collapsed": false
   },
   "outputs": [],
   "source": [
    "tweets = api.user_timeline(screen_name='corybernardi')"
   ]
  },
  {
   "cell_type": "code",
   "execution_count": 18,
   "metadata": {
    "collapsed": false
   },
   "outputs": [
    {
     "data": {
      "text/plain": [
       "\"If being former PM is reason enough to be nominated for Sec Gen to UN, why don't we nominate @TonyAbbottMHR ?\""
      ]
     },
     "execution_count": 18,
     "metadata": {},
     "output_type": "execute_result"
    }
   ],
   "source": [
    "tweets[0].text"
   ]
  },
  {
   "cell_type": "code",
   "execution_count": 19,
   "metadata": {
    "collapsed": true
   },
   "outputs": [],
   "source": [
    "import re"
   ]
  },
  {
   "cell_type": "code",
   "execution_count": 20,
   "metadata": {
    "collapsed": false
   },
   "outputs": [
    {
     "data": {
      "text/plain": [
       "['RT @BettyR1972: @corybernardi @keysartrad \\nCathnews item: Cardinal Burke says Islam wants to govern the world. https://t.co/zVdA0to4mw',\n",
       " \"New President of Australia's peak Muslim body is  @keysartrad . Nothing to worry about despite court findings?\\n\\nhttps://t.co/2tM36jsY5R\",\n",
       " \"If Islamic jihadists are mentally ill, as we are now being told, why can't they be locked up at Governor's pleasure with no halal meals?\",\n",
       " \"It doesn't matter if @samdastyari is an apostate, an atheist, a refugee from Islamic sharia law or a man with simply extraordinary hair.\",\n",
       " \"RT @wuhokay: Great question from Kirralie Sam.\\nIsn't pretending to be a muslim disrespectful @samdastyari?\\n@KirralieS\\n#auspol https://t.co/…\"]"
      ]
     },
     "execution_count": 20,
     "metadata": {},
     "output_type": "execute_result"
    }
   ],
   "source": [
    "[t.text for t in tweets if re.search('muslim|islam', t.text, flags=re.IGNORECASE)]"
   ]
  },
  {
   "cell_type": "code",
   "execution_count": null,
   "metadata": {
    "collapsed": true
   },
   "outputs": [],
   "source": []
  }
 ],
 "metadata": {
  "anaconda-cloud": {},
  "kernelspec": {
   "display_name": "Python [py3]",
   "language": "python",
   "name": "Python [py3]"
  },
  "language_info": {
   "codemirror_mode": {
    "name": "ipython",
    "version": 3
   },
   "file_extension": ".py",
   "mimetype": "text/x-python",
   "name": "python",
   "nbconvert_exporter": "python",
   "pygments_lexer": "ipython3",
   "version": "3.5.2"
  }
 },
 "nbformat": 4,
 "nbformat_minor": 0
}
