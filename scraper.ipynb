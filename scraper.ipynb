{
 "cells": [
  {
   "cell_type": "code",
   "execution_count": 29,
   "metadata": {
    "collapsed": true
   },
   "outputs": [],
   "source": [
    "from bs4 import BeautifulSoup\n",
    "import requests\n",
    "import pandas as pd\n",
    "import json"
   ]
  },
  {
   "cell_type": "code",
   "execution_count": 30,
   "metadata": {
    "collapsed": true
   },
   "outputs": [],
   "source": [
    "def fix_JSON(json_message=None):\n",
    "    result = None\n",
    "    try:        \n",
    "        result = json.loads(json_message)\n",
    "    except Exception as e:      \n",
    "        # Find the offending character index:\n",
    "        idx_to_replace = int(e.message.split(' ')[-1].replace(')',''))      \n",
    "        # Remove the offending character:\n",
    "        json_message = list(json_message)\n",
    "        json_message[idx_to_replace] = ' '\n",
    "        new_message = ''.join(json_message)     \n",
    "        return fix_JSON(json_message=new_message)\n",
    "    return result"
   ]
  },
  {
   "cell_type": "code",
   "execution_count": 31,
   "metadata": {
    "collapsed": false
   },
   "outputs": [],
   "source": [
    "def clean_text(textdata):\n",
    "    soup = BeautifulSoup(textdata)\n",
    "    for script in soup([\"script\", \"style\"]):\n",
    "        script.extract()\n",
    "    text = soup.get_text()\n",
    "    lines = (line.strip() for line in text.splitlines())\n",
    "    chunks = (phrase.strip() for line in lines for phrase in line.split(\"  \"))\n",
    "    text = '\\n'.join(chunk for chunk in chunks if chunk)\n",
    "    return (text.encode('utf-8'))"
   ]
  },
  {
   "cell_type": "code",
   "execution_count": 32,
   "metadata": {
    "collapsed": false
   },
   "outputs": [],
   "source": [
    "explainers = BeautifulSoup(requests.get(\"http://theconversation.com/au/factcheck\").text, \"lxml\")\n",
    "headlines = explainers.find_all('h2')\n",
    "results = list()"
   ]
  },
  {
   "cell_type": "code",
   "execution_count": 33,
   "metadata": {
    "collapsed": false
   },
   "outputs": [
    {
     "name": "stdout",
     "output_type": "stream",
     "text": [
      "That went horribly wrong\n",
      "That went horribly wrong\n"
     ]
    }
   ],
   "source": [
    "for headline in headlines:\n",
    "    thisline = dict()\n",
    "    try:\n",
    "        link = \"http://theconversation.com\" + headline.a['href']\n",
    "        thisline['url'] = link\n",
    "        thisline['headline'] = headline.text\n",
    "        thisline['content'] = requests.get(link).text\n",
    "        soup = BeautifulSoup(thisline['content'], \"lxml\")\n",
    "        thisline['link'] = link\n",
    "        meta = soup.find(attrs={'name' : \"news_keywords\"})\n",
    "        thisline['keywords'] = meta['content']\n",
    "        thisline['source'] = \"The Conversation\"\n",
    "    except:\n",
    "        print(\"That went horribly wrong\")\n",
    "    results.append(thisline)"
   ]
  },
  {
   "cell_type": "code",
   "execution_count": 6,
   "metadata": {
    "collapsed": true
   },
   "outputs": [],
   "source": [
    "abcexplainers = BeautifulSoup(requests.get('http://www.abc.net.au/news/factcheck/zombies/').text, \"lxml\")\n",
    "\n",
    "links = abcexplainers.find_all(\"a\")"
   ]
  },
  {
   "cell_type": "code",
   "execution_count": null,
   "metadata": {
    "collapsed": false
   },
   "outputs": [],
   "source": [
    "links"
   ]
  },
  {
   "cell_type": "code",
   "execution_count": 7,
   "metadata": {
    "collapsed": true
   },
   "outputs": [],
   "source": [
    "links = [link for link in links if \"Fact Check zombie\" in link.text]"
   ]
  },
  {
   "cell_type": "code",
   "execution_count": null,
   "metadata": {
    "collapsed": true
   },
   "outputs": [],
   "source": [
    "thisline = list()"
   ]
  },
  {
   "cell_type": "code",
   "execution_count": 20,
   "metadata": {
    "collapsed": false
   },
   "outputs": [
    {
     "data": {
      "text/plain": [
       "<a href=\"/news/2016-06-15/fact-check-zombie-bill-shorten-repeats-misleading-claim/7509112\">Fact Check zombie: Bill Shorten repeats misleading Tony Abbott and Joe Hockey claim on changing the GST</a>"
      ]
     },
     "execution_count": 20,
     "metadata": {},
     "output_type": "execute_result"
    }
   ],
   "source": [
    "links[0]"
   ]
  },
  {
   "cell_type": "code",
   "execution_count": 27,
   "metadata": {
    "collapsed": false
   },
   "outputs": [
    {
     "name": "stdout",
     "output_type": "stream",
     "text": [
      "Bad JSON\n",
      "{\n",
      "  \"id\" : 7509112,\n",
      "  \"docType\" : \"Article\",\n",
      "  \"title\" : \"Fact Check zombie: Bill Shorten repeats misleading Tony Abbott and Joe Hockey claim on changing the GST\",\n",
      "  \"shortTeaserTitle\" : \"Fact Check zombie: GST on tampons\",\n",
      "  \"teaserTitle\" : \"Fact Check zombie: Bill Shorten repeats misleading Tony Abbott and Joe Hockey claim on changing the GST\",\n",
      "  \"shortTeaserTextPlain\" : \"Zombie alert! Bill Shorten repeats misleading Tony Abbott and Joe Hockey claim on changing the GST.\",\n",
      "  \"teaserTextPlain\" : \"Opposition Leader Bill Shorten has confirmed that Labor will not be scrapping the GST on tampons if elected, despite a concerted campaign from the public to do so — a backflip from a previous position.\\n\\n\\\"In terms of the GST on tampons, in an ideal world we would scrap that. But in order to do that you have to get the concurrence of state premiers,\\\" Mr Shorten told a press conference on June 10, 2016.\\n\\nFact Check has already tested claims on whether state assent would be needed to change the GST.\\n\\nCuriously, these claims came from the other side of the political divide — from former treasurer Joe Hockey and former prime minister Tony Abbott, when they still occupied those positions.\",\n",
      "  \"contentGenre\" : \"Current\",\n",
      "  \"thumbnailLink\" : {\n",
      "    \"id\" : 7510060,\n",
      "    \"imageLinks\" : {\n",
      "      \"thumbnail-4x3\" : \"http://www.abc.net.au/cm/rimage/7510060-4x3-thumbnail.png?v=3\",\n",
      "      \"large-4x3\" : \"http://www.abc.net.au/cm/rimage/7510060-4x3-large.png?v=3\",\n",
      "      \"thumbnail-16x9\" : \"http://www.abc.net.au/cm/rimage/7510060-16x9-thumbnail.png?v=3\",\n",
      "      \"large-16x9\" : \"http://www.abc.net.au/cm/rimage/7510060-16x9-large.png?v=3\",\n",
      "      \"thumbnail-1x1\" : \"http://www.abc.net.au/cm/rimage/7510060-1x1-thumbnail.png?v=3\",\n",
      "      \"large-1x1\" : \"http://www.abc.net.au/cm/rimage/7510060-1x1-large.png?v=3\",\n",
      "      \"thumbnail-3x2\" : \"http://www.abc.net.au/cm/rimage/7510060-3x2-thumbnail.png?v=3\",\n",
      "      \"large-3x2\" : \"http://www.abc.net.au/cm/rimage/7510060-3x2-large.png?v=3\",\n",
      "      \"thumbnail-3x4\" : \"http://www.abc.net.au/cm/rimage/7510060-3x4-thumbnail.png?v=3\",\n",
      "      \"large-3x4\" : \"http://www.abc.net.au/cm/rimage/7510060-3x4-large.png?v=3\"\n",
      "    }\n",
      "  },\n",
      "  \"relatedItems\" : [ {\n",
      "    \"id\" : 7510050,\n",
      "    \"shortTeaserTitle\" : \"Fact Check zombie: Bill Shorten repeats misleading Tony Abbott and Joe Hockey claim on changing the GST\"\n",
      "  } ],\n",
      "  \"subject\" : [ {\n",
      "    \"name\" : \"Tax\",\n",
      "    \"id\" : 1594,\n",
      "    \"parent\" : {\n",
      "      \"name\" : \"Government and Politics\",\n",
      "      \"id\" : 1534\n",
      "    }\n",
      "  }, {\n",
      "    \"name\" : \"Federal Elections\",\n",
      "    \"id\" : 1584,\n",
      "    \"parent\" : {\n",
      "      \"name\" : \"Elections\",\n",
      "      \"id\" : 1538,\n",
      "      \"parent\" : {\n",
      "        \"name\" : \"Government and Politics\",\n",
      "        \"id\" : 1534\n",
      "      }\n",
      "    }\n",
      "  }, {\n",
      "    \"name\" : \"Alp\",\n",
      "    \"id\" : 1562,\n",
      "    \"parent\" : {\n",
      "      \"name\" : \"Political Parties\",\n",
      "      \"id\" : 1544,\n",
      "      \"parent\" : {\n",
      "        \"name\" : \"Government and Politics\",\n",
      "        \"id\" : 1534\n",
      "      }\n",
      "    }\n",
      "  } ],\n",
      "  \"firstPublishedDate\" : \"2016-06-15T06:59:36+00:00\",\n",
      "  \"lastPublishedDate\" : \"2016-06-15T07:01:48+00:00\",\n",
      "  \"shortTeaserText\" : \"<p>Zombie alert! Bill Shorten repeats misleading Tony Abbott and Joe Hockey claim on changing the GST.</p>\",\n",
      "  \"teaserText\" : \"<p>Opposition Leader Bill Shorten has confirmed that Labor will not be scrapping the GST on tampons if elected, despite a concerted campaign from the public to do so — a backflip from a previous position.</p><p>\\\"In terms of the GST on tampons, in an ideal world we would scrap that. But in order to do that you have to get the concurrence of state premiers,\\\" Mr Shorten told a press conference on June 10, 2016.</p><p>Fact Check has already tested claims on whether state assent would be needed to change the GST.</p><p>Curiously, these claims came from the other side of the political divide — from former treasurer Joe Hockey and former prime minister Tony Abbott, when they still occupied those positions.</p>\",\n",
      "  \"keywords\" : \"zombie, tax, gst, tampons, sanitary, bill shorten, tony abbott, liberals, labor\",\n",
      "  \"version\" : 9,\n",
      "  \"importance\" : 5,\n",
      "  \"canonicalUrl\" : \"http://www.abc.net.au/news/2016-06-15/fact-check-zombie-bill-shorten-repeats-misleading-claim/7509112\",\n",
      "  \"rootNavigation\" : {\n",
      "    \"id\" : 45902,\n",
      "    \"segment\" : \"news\",\n",
      "    \"title\" : \"ABC News\"\n",
      "  },\n",
      "  \"textPlain\" : \"Opposition Leader Bill Shorten has confirmed that Labor will not be scrapping the GST on tampons if elected, despite a concerted campaign from the public to do so — a backflip from a previous position.\\n\\nclaim\\n\\n\\\"In terms of the GST on tampons, in an ideal world we would scrap that. But in order to do that you have to get the concurrence of state premiers,\\\" Mr Shorten told a press conference on June 10, 2016.\\n\\nFact Check has already tested claims on whether state assent would be needed to change the GST.\\n\\nCuriously, these claims came from the other side of the political divide — from former treasurer Joe Hockey and former prime minister Tony Abbott, when they still occupied those positions.\\n\\nFact Check found their claims to be misleading.\\n\\nThe original claim\\n\\nMr Abbott made this claim on several occasions.\\n\\n\\\"We can't change the GST without having all the states and territories on side and without having a consensus in the national parliament,\\\" Mr Abbott said at a doorstop on March 30, 2015.\\n\\nMr Abbott repeated the claim in response to a question from Mr Shorten in the House of Representatives in May, 2015 about removing the GST on tampons: \\\"As the Leader of the Opposition well knows, the GST is a tax which is imposed for the states. It is spent by the states. Changes to the GST are absolutely a matter for the states and territories.\\\"\\n\\nA day earlier, in response to a question about removing the GST from sanitary items on ABC's Q&A, then treasurer Joe Hockey said: \\\"I'd need the agreement of the states ... I will give you this undertaking: I will raise it with the states at the next meeting of the treasurers in July.\\\"\\n\\nFact Check examined the GST Act 1999, as well as the agreement made with the states in 1998, and consulted experts to determine whether the assent of the states is required to change the GST.\\n\\nIndeed, the Act states: \\\"The Parliament acknowledges that the Commonwealth will maintain the rate and base of the GST in accordance with the Agreement on Principles for the Reform of Commonwealth-State Financial Relations endorsed at the Special Premiers' Conference in Canberra on 13 November 1998.\\\"\\n\\nAnd part 3 of the agreement concurs:\\n\\nSubject to clauses 34, 35 and 36 of this Agreement, after the introduction of the GST, any proposal to vary the GST base will require:\\nthe unanimous support of the State and Territory Governments;\\nthe endorsement by the Commonwealth Government of the day; and\\nthe passage of relevant legislation by both Houses of the Commonwealth Parliament.\\n\\n\\n\\nHowever, published expert legal opinion found that despite the provisions in the agreement, the agreement is judicially unenforceable.\\n\\n\\\"The GST intergovernmental agreement is, we think, a prime example of the kind of political compact enforceable (so to speak) only by political sanctions ultimately at the hands of the electors. It follows that it is not truly legally i.e. judicially enforceable at all: for a court to venture on that course would be, as Sir Owen Dixon put it, to extend the court's 'true function into a domain that does not belong to it',\\\" a legal opinion commissioned by the Australian newspaper from Bret Walker SC and A.D Lang said.\\n\\nhockeyabbott\\n\\nLegal academics Fact Check spoke said that legislation could not be used to bind a future parliament.\\n\\nAnne Twomey, from the University of Sydney Law School said: \\\"The GST legislation can be amended at any time by the Commonwealth Parliament by ordinary majorities in each house. Although it says that the states must agree to changes in the rate and base of the GST, this can simply be amended or repealed by ordinary Commonwealth legislation.\\\"\\n\\nAnd George Williams from UNSW told Fact Check: \\\"The Act requires their consent, but there's nothing to stop Parliament changing the act to remove that requirement. It's a self-imposed requirement that can be easily disposed of by way of an amendment. There is no doubt that federal Parliament can therefore make the change unilaterally if it desires to do so.\\\"\\n\\nUltimately, Fact Check found that the only factor truly preventing the Government from removing the GST on tampons was a potential political backlash, not a legal roadblock, and that if Mr Abbott meant that a government may not attempt to change the GST without the support of the states and territories because it would be politically difficult, he should have said so.\\n\\nSo Mr Abbott and Mr Hockey's claims about changing the GST were misleading, just as Mr Shorten's is today.\",\n",
      "  \"text\" : \"<p>Opposition Leader Bill Shorten has confirmed that Labor will not be scrapping the GST on tampons if elected, despite <a href=\\\"https://www.communityrun.org/petitions/stop-taxing-my-period\\\" target=\\\"_self\\\" title=\\\"\\\">a concerted campaign from the public to do so</a> — a backflip from <a href=\\\"http://parlinfo.aph.gov.au/parlInfo/search/display/display.w3p;query=Id%!A(MISSING)%!c(MISSING)hamber%!F(MISSING)hansardr%!F(MISSING)5005d996-a229-4d88-a18a-97e4c70215a3%!F(MISSING)0054%!\\(MISSING)\" target=\\\"_self\\\" title=\\\"\\\">a previous position.</a></p><p> </p><p>\\\"In terms of the GST on tampons, in an ideal world we would scrap that. But in order to do that you have to get the concurrence of state premiers,\\\" Mr Shorten told a <a href=\\\"http://www.billshorten.com.au/press_conference_sydney_friday_10_june_2016\\\" target=\\\"_self\\\" title=\\\"\\\">press conference</a> on June 10, 2016.</p><p>Fact Check has already tested claims on whether state assent would be needed to change the GST.</p><p>Curiously,<strong> </strong>these claims came from the other side of the political divide — from former treasurer Joe Hockey and former prime minister Tony Abbott, when they still occupied those positions.</p><p>Fact Check found their claims to be misleading.</p><h4>The original claim</h4><p>Mr Abbott made this claim on several occasions.</p><p>\\\"We can't change the GST without having all the states and territories on side and without having a consensus in the national parliament,\\\" Mr Abbott <a href=\\\"http://www.pm.gov.au/media/2015-03-30/joint-doorstop-interview-cressy\\\">said at a doorstop on March 30, 2015.</a></p><p>Mr Abbott repeated the claim <a href=\\\"http://parlinfo.aph.gov.au/parlInfo/download/chamber/hansardr/5005d996-a229-4d88-a18a-97e4c70215a3/toc_pdf/House%!o(MISSING)f%!R(MISSING)epresentatives_2015_05_26_3462_Official.pdf;fileType=application%!F(MISSING)pdf#search=%!c(MISSING)hamber/hansardr/5005d996-a229-4d88-a18a-97e4c70215a3/0000%!\\(MISSING)\" target=\\\"_self\\\" title=\\\"\\\">in response</a> to a question from Mr Shorten in the House of Representatives in May, 2015 about removing the GST on tampons: \\\"As the Leader of the Opposition well knows, the GST is a tax which is imposed for the states. It is spent by the states. Changes to the GST are absolutely a matter for the states and territories.\\\"</p><p>A day earlier, in response to a question about removing the GST from sanitary items on <a href=\\\"http://www.abc.net.au/tv/qanda/txt/s4219741.htm\\\" target=\\\"_self\\\" title=\\\"\\\">ABC's Q&amp;A</a>, then treasurer Joe Hockey said: \\\"I'd need the agreement of the states ... I will give you this undertaking: I will raise it with the states at the next meeting of the treasurers in July.\\\"</p><p>Fact Check examined the <a href=\\\"http://www.austlii.edu.au/au/legis/cth/consol_act/antsasta1999402/s1.3.html\\\" target=\\\"_self\\\" title=\\\"\\\">GST Act 1999</a>, as well as the <a href=\\\"http://www.coag.gov.au/node/75\\\" target=\\\"_self\\\" title=\\\"\\\">agreement made with the states in 1998</a>, and consulted experts to determine whether the assent of the states is required to change the GST.</p><p>Indeed, the Act states: \\\"The Parliament acknowledges that the Commonwealth will maintain the rate and base of the GST in accordance with the Agreement on Principles for the Reform of Commonwealth-State Financial Relations endorsed at the Special Premiers' Conference in Canberra on 13 November 1998.\\\"</p><p>And part 3 of the agreement concurs:</p><blockquote><p>Subject to clauses 34, 35 and 36 of this Agreement, after the introduction of the GST, any proposal to vary the GST base will require:</p><ul><li>the unanimous support of the State and Territory Governments;</li></ul><ul><li>the endorsement by the Commonwealth Government of the day; and</li></ul><ul><li>the passage of relevant legislation by both Houses of the Commonwealth Parliament.</li></ul><p> </p> </blockquote><p>However, published expert legal opinion found that despite the provisions in the agreement, the agreement is judicially unenforceable.</p><p>\\\"The GST intergovernmental agreement is, we think, a prime example of the kind of political compact enforceable (so to speak) only by political sanctions ultimately at the hands of the electors. It follows that it is not truly legally i.e. judicially enforceable at all: for a court to venture on that course would be, as Sir Owen Dixon put it, to extend the court's 'true function into a domain that does not belong to it',\\\" a <a href=\\\"http://resources.news.com.au/files/2013/08/18/1226699/498693-gstreport18082013.pdf\\\" target=\\\"_self\\\" title=\\\"\\\">legal opinion commissioned by the Australian newspaper</a> from Bret Walker SC and A.D Lang said.</p><p> </p><p>Legal academics Fact Check spoke said that legislation could not be used to bind a future parliament.</p><p>Anne Twomey, from the University of Sydney Law School said: \\\"The GST legislation can be amended at any time by the Commonwealth Parliament by ordinary majorities in each house. Although it says that the states must agree to changes in the rate and base of the GST, this can simply be amended or repealed by ordinary Commonwealth legislation.\\\"</p><p>And George Williams from UNSW told Fact Check: \\\"The Act requires their consent, but there's nothing to stop Parliament changing the act to remove that requirement. It's a self-imposed requirement that can be easily disposed of by way of an amendment. There is no doubt that federal Parliament can therefore make the change unilaterally if it desires to do so.\\\"</p><p>Ultimately, Fact Check found that the only factor truly preventing the Government from removing the GST on tampons was a potential political backlash, not a legal roadblock, and that if Mr Abbott meant that a government may not attempt to change the GST without the support of the states and territories because it would be politically difficult, he should have said so.</p><p>So Mr Abbott and Mr Hockey's claims about changing the GST were misleading, just as Mr Shorten's is today.</p>\"\n",
      "}\n",
      "Bad JSON\n",
      "{\n",
      "  \"id\" : 7266272,\n",
      "  \"docType\" : \"Article\",\n",
      "  \"title\" : \"Fact Check zombie: Clive Palmer wrong again on Australians dying before accessing their super\",\n",
      "  \"shortTeaserTitle\" : \"Fact Check zombie: Superannuation\",\n",
      "  \"teaserTitle\" : \"Fact Check zombie: Clive Palmer wrong again on Australians dying before accessing their super\",\n",
      "  \"shortTeaserTextPlain\" : \"Zombie alert! Clive Palmer wrong again on Australians dying before accessing their super\",\n",
      "  \"teaserTextPlain\" : \"Federal MP for the Queensland seat of Fairfax, Clive Palmer, has used Question Time to push the Government to allow people to access part of their super early, to \\\"buy a home or support their family in difficult times.\\\"\\n\\nMr Palmer claimed that \\\"A large percentage of Australians will be dead before they are eligible [to use their super].\\\"\\n\\nMr Palmer made a similar claim in 2014, which Fact Check found to be wrong.\",\n",
      "  \"contentGenre\" : \"Current\",\n",
      "  \"thumbnailLink\" : {\n",
      "    \"id\" : 7270070,\n",
      "    \"imageLinks\" : {\n",
      "      \"thumbnail-4x3\" : \"http://www.abc.net.au/cm/rimage/7270070-4x3-thumbnail.jpg?v=2\",\n",
      "      \"large-4x3\" : \"http://www.abc.net.au/cm/rimage/7270070-4x3-large.jpg?v=2\",\n",
      "      \"thumbnail-16x9\" : \"http://www.abc.net.au/cm/rimage/7270070-16x9-thumbnail.jpg?v=2\",\n",
      "      \"large-16x9\" : \"http://www.abc.net.au/cm/rimage/7270070-16x9-large.jpg?v=2\",\n",
      "      \"thumbnail-1x1\" : \"http://www.abc.net.au/cm/rimage/7270070-1x1-thumbnail.jpg?v=2\",\n",
      "      \"large-1x1\" : \"http://www.abc.net.au/cm/rimage/7270070-1x1-large.jpg?v=2\",\n",
      "      \"thumbnail-3x2\" : \"http://www.abc.net.au/cm/rimage/7270070-3x2-thumbnail.jpg?v=2\",\n",
      "      \"large-3x2\" : \"http://www.abc.net.au/cm/rimage/7270070-3x2-large.jpg?v=2\",\n",
      "      \"thumbnail-3x4\" : \"http://www.abc.net.au/cm/rimage/7270070-3x4-thumbnail.jpg?v=2\",\n",
      "      \"large-3x4\" : \"http://www.abc.net.au/cm/rimage/7270070-3x4-large.jpg?v=2\"\n",
      "    }\n",
      "  },\n",
      "  \"relatedItems\" : [ {\n",
      "    \"id\" : 7271326,\n",
      "    \"shortTeaserTitle\" : \"Fact Check zombie: Clive Palmer wrong again on Australians dying before accessing their super\"\n",
      "  } ],\n",
      "  \"subject\" : [ {\n",
      "    \"name\" : \"Superannuation\",\n",
      "    \"id\" : 824,\n",
      "    \"parent\" : {\n",
      "      \"name\" : \"Business, Economics and Finance\",\n",
      "      \"id\" : 808\n",
      "    }\n",
      "  }, {\n",
      "    \"name\" : \"Tax\",\n",
      "    \"id\" : 1594,\n",
      "    \"parent\" : {\n",
      "      \"name\" : \"Government and Politics\",\n",
      "      \"id\" : 1534\n",
      "    }\n",
      "  }, {\n",
      "    \"name\" : \"Clive Palmer\",\n",
      "    \"id\" : 4876326,\n",
      "    \"parent\" : {\n",
      "      \"name\" : \"Person\",\n",
      "      \"id\" : 2128\n",
      "    }\n",
      "  }, {\n",
      "    \"name\" : \"Minor Parties\",\n",
      "    \"id\" : 1566,\n",
      "    \"parent\" : {\n",
      "      \"name\" : \"Political Parties\",\n",
      "      \"id\" : 1544,\n",
      "      \"parent\" : {\n",
      "        \"name\" : \"Government and Politics\",\n",
      "        \"id\" : 1534\n",
      "      }\n",
      "    }\n",
      "  } ],\n",
      "  \"location\" : [ {\n",
      "    \"name\" : \"Australia\",\n",
      "    \"id\" : 6864,\n",
      "    \"latitude\" : \"-26.000\",\n",
      "    \"longitude\" : \"134.500\"\n",
      "  } ],\n",
      "  \"firstPublishedDate\" : \"2016-03-29T19:15:34+00:00\",\n",
      "  \"lastPublishedDate\" : \"2016-03-29T22:49:12+00:00\",\n",
      "  \"shortTeaserText\" : \"<p>Zombie alert! Clive Palmer wrong again on Australians dying before accessing their super</p>\",\n",
      "  \"teaserText\" : \"<p>Federal MP for the Queensland seat of Fairfax, Clive Palmer, has used Question Time to push the Government to allow people to access part of their super early, to \\\"buy a home or support their family in difficult times.\\\"</p><p>Mr Palmer claimed that \\\"A large percentage of Australians will be dead before they are eligible [to use their super].\\\"</p><p>Mr Palmer made a similar claim in 2014, which Fact Check found to be wrong.</p>\",\n",
      "  \"keywords\" : \"zombie, clive palmer, superannuation, billionaire, wrong\",\n",
      "  \"latitude\" : \"-26.000\",\n",
      "  \"longitude\" : \"134.500\",\n",
      "  \"version\" : 11,\n",
      "  \"importance\" : 5,\n",
      "  \"canonicalUrl\" : \"http://www.abc.net.au/news/2016-03-30/clive-palmer-superannuation-zombie/7266272\",\n",
      "  \"rootNavigation\" : {\n",
      "    \"id\" : 45902,\n",
      "    \"segment\" : \"news\",\n",
      "    \"title\" : \"ABC News\"\n",
      "  },\n",
      "  \"textPlain\" : \"Federal MP for the Queensland seat of Fairfax, Clive Palmer, has used Question Time to push the Government to allow people to access part of their super early, to \\\"buy a home or support their family in difficult times.\\\"\\n\\nMr Palmer claimed that \\\"A large percentage of Australians will be dead before they are eligible [to use their super].\\\"\\n\\nMr Palmer made a similar claim in 2014, which Fact Check found to be wrong.\\n\\nThe original claim\\n\\n\\\"And we know as a statistical fact that over 50 per cent of Australians will be dead by the time they get access to their super,\\\" Mr Palmer said.\\n\\nFact Check consulted the Actuaries Institute, which used Australian Life Tables published by the Australian Government Actuary, to calculate that 89 per cent of Australians would live to 65.\\n\\nAt this age, Australians are able to fully draw down on their superannuation, even if they are still working.\\n\\noriginal claim\\n\\nBut the \\\"preservation age\\\" or the age at which people can start accessing their super is even lower, with some people able to start accessing their super at 55, depending on when they were born.\\n\\nThis means that the percentage of people who can begin accessing their super before they die would be even higher.\\n\\nSome of Australia's largest super funds confirmed to Fact Check that less than 5 per cent of funds are paid directly to beneficiaries because the member has died.\\n\\nFact Check determined Mr Palmer's claim to be wrong, and it still is today.\",\n",
      "  \"text\" : \"<p>Federal MP for the Queensland seat of Fairfax, Clive Palmer, has used <a href=\\\"http://parlinfo.aph.gov.au/parlInfo/search/display/display.w3p;query=Id%!A(MISSING)%!c(MISSING)hamber%!F(MISSING)hansardr%!F(MISSING)b9fdd3c0-0b71-4ff7-9a54-deaf6cfc2db3%!F(MISSING)0086%!\\(MISSING)\" target=\\\"_self\\\" title=\\\"\\\">Question Time</a> to push the Government to allow people to access part of their super early, to \\\"buy a home or support their family in difficult times.\\\"</p><p>Mr Palmer claimed that \\\"A large percentage of Australians will be dead before they are eligible<strong> </strong>[to use their super].<strong>\\\"</strong></p><p>Mr Palmer made a similar claim in 2014, which Fact Check found to be wrong.</p><h4>The original claim</h4><p>\\\"And we know as a statistical fact that over 50 per cent of Australians will be dead by the time they get access to their super,\\\" Mr Palmer said.</p><p>Fact Check consulted the Actuaries Institute, which used Australian Life Tables published by the Australian Government Actuary, to calculate that 89 per cent of Australians would live to 65.</p><p>At this age, Australians are able to fully draw down on their superannuation, even if they are still working.</p><p> </p><p>But the \\\"preservation age\\\" or the age at which people can start accessing their super is even lower, with some people able to start accessing their super at 55, depending on when they were born.</p><p>This means that the percentage of people who can begin accessing their super before they die would be even higher.</p><p>Some of Australia's largest super funds confirmed to Fact Check that less than 5 per cent of funds are paid directly to beneficiaries because the member has died.</p><p>Fact Check determined Mr Palmer's claim to be wrong, and it still is today.</p>\"\n",
      "}\n",
      "Bad JSON\n",
      "{\n",
      "  \"id\" : 7267780,\n",
      "  \"docType\" : \"Article\",\n",
      "  \"title\" : \"Fact Check zombie: Josh Frydenberg repeats incorrect claim on emissions reduction targets\",\n",
      "  \"shortTeaserTitle\" : \"Fact check zombie: Emissions reduction targets\",\n",
      "  \"teaserTitle\" : \"Fact Check zombie: Josh Frydenberg repeats incorrect claim on emissions reduction targets\",\n",
      "  \"shortTeaserTextPlain\" : \"Zombie alert! Josh Frydenberg repeats Malcolm Turnbull's incorrect claim on emissions reduction targets\",\n",
      "  \"teaserTextPlain\" : \"In 2015, Australia went to the Paris climate conference with a reduction target of 26 to 28 per cent of its 2005 emissions by 2030.\\n\\nMinister for Resources, Energy and Northern Australia, Josh Frydenberg, characterised this target as \\\"extremely significant\\\" on ABC TV's Q&A.\\n\\n\\\"The target we took to Paris which was to reduce our emissions by 26 to 28 per cent on 2005 levels by 2030, saw the second highest target taken to Paris on a per capita basis,\\\" he said.\\n\\nFact Check tested a similar claim from Prime Minister Malcolm Turnbull before the Paris conference in 2015 — that claim was found to be incorrect.\",\n",
      "  \"contentGenre\" : \"Current\",\n",
      "  \"thumbnailLink\" : {\n",
      "    \"id\" : 7270082,\n",
      "    \"imageLinks\" : {\n",
      "      \"thumbnail-4x3\" : \"http://www.abc.net.au/cm/rimage/7270082-4x3-thumbnail.jpg?v=2\",\n",
      "      \"large-4x3\" : \"http://www.abc.net.au/cm/rimage/7270082-4x3-large.jpg?v=2\",\n",
      "      \"thumbnail-16x9\" : \"http://www.abc.net.au/cm/rimage/7270082-16x9-thumbnail.jpg?v=2\",\n",
      "      \"large-16x9\" : \"http://www.abc.net.au/cm/rimage/7270082-16x9-large.jpg?v=2\",\n",
      "      \"thumbnail-1x1\" : \"http://www.abc.net.au/cm/rimage/7270082-1x1-thumbnail.jpg?v=2\",\n",
      "      \"large-1x1\" : \"http://www.abc.net.au/cm/rimage/7270082-1x1-large.jpg?v=2\",\n",
      "      \"thumbnail-3x2\" : \"http://www.abc.net.au/cm/rimage/7270082-3x2-thumbnail.jpg?v=2\",\n",
      "      \"large-3x2\" : \"http://www.abc.net.au/cm/rimage/7270082-3x2-large.jpg?v=2\",\n",
      "      \"thumbnail-3x4\" : \"http://www.abc.net.au/cm/rimage/7270082-3x4-thumbnail.jpg?v=2\",\n",
      "      \"large-3x4\" : \"http://www.abc.net.au/cm/rimage/7270082-3x4-large.jpg?v=2\"\n",
      "    }\n",
      "  },\n",
      "  \"relatedItems\" : [ {\n",
      "    \"id\" : 7270642,\n",
      "    \"shortTeaserTitle\" : \"Fact check zombie: Josh Frydenberg repeats incorrect claim on emissions reduction targets\"\n",
      "  } ],\n",
      "  \"subject\" : [ {\n",
      "    \"name\" : \"Climate Change\",\n",
      "    \"id\" : 1450,\n",
      "    \"parent\" : {\n",
      "      \"name\" : \"Environment\",\n",
      "      \"id\" : 1406\n",
      "    }\n",
      "  }, {\n",
      "    \"name\" : \"Pollution\",\n",
      "    \"id\" : 1460,\n",
      "    \"parent\" : {\n",
      "      \"name\" : \"Environment\",\n",
      "      \"id\" : 1406\n",
      "    }\n",
      "  }, {\n",
      "    \"name\" : \"Liberals\",\n",
      "    \"id\" : 1572,\n",
      "    \"parent\" : {\n",
      "      \"name\" : \"Political Parties\",\n",
      "      \"id\" : 1544,\n",
      "      \"parent\" : {\n",
      "        \"name\" : \"Government and Politics\",\n",
      "        \"id\" : 1534\n",
      "      }\n",
      "    }\n",
      "  } ],\n",
      "  \"location\" : [ {\n",
      "    \"name\" : \"Australia\",\n",
      "    \"id\" : 6864,\n",
      "    \"latitude\" : \"-26.000\",\n",
      "    \"longitude\" : \"134.500\"\n",
      "  } ],\n",
      "  \"firstPublishedDate\" : \"2016-03-23T20:10:05+00:00\",\n",
      "  \"lastPublishedDate\" : \"2016-03-23T23:57:16+00:00\",\n",
      "  \"shortTeaserText\" : \"<p>Zombie alert! Josh Frydenberg repeats Malcolm Turnbull's incorrect claim on emissions reduction targets</p>\",\n",
      "  \"teaserText\" : \"<p>In 2015, Australia went to the Paris climate conference with a reduction target of 26 to 28 per cent of its 2005 emissions by 2030.</p><p>Minister for Resources, Energy and Northern Australia, Josh Frydenberg, characterised this target as \\\"extremely significant\\\" on ABC TV's Q&amp;A.</p><p>\\\"The target we took to Paris which was to reduce our emissions by 26 to 28 per cent on 2005 levels by 2030, saw the second highest target taken to Paris on a per capita basis,\\\" he said.</p><p>Fact Check tested a similar claim from Prime Minister Malcolm Turnbull before the Paris conference in 2015 — that claim was found to be incorrect.</p>\",\n",
      "  \"keywords\" : \"zombie, josh frydenberg, paris 2015, emissions, carbon, tax, pricing, targets\",\n",
      "  \"latitude\" : \"-26.000\",\n",
      "  \"longitude\" : \"134.500\",\n",
      "  \"version\" : 16,\n",
      "  \"importance\" : 5,\n",
      "  \"canonicalUrl\" : \"http://www.abc.net.au/news/2016-03-24/frydenberg-emissions-targets-zombie/7267780\",\n",
      "  \"rootNavigation\" : {\n",
      "    \"id\" : 45902,\n",
      "    \"segment\" : \"news\",\n",
      "    \"title\" : \"ABC News\"\n",
      "  },\n",
      "  \"textPlain\" : \"In 2015, Australia went to the Paris climate conference with a reduction target of 26 to 28 per cent of its 2005 emissions by 2030.\\n\\nMinister for Resources, Energy and Northern Australia, Josh Frydenberg, characterised this target as \\\"extremely significant\\\" in comparison with the rest of the world on ABC TV's Q&A.\\n\\n\\\"The target we took to Paris which was to reduce our emissions by 26 to 28 per cent on 2005 levels by 2030, saw the second highest target taken to Paris on a per capita basis,\\\" he said.\\n\\nFact Check tested a similar claim from Prime Minister Malcolm Turnbull before the Paris conference in 2015 — that claim was found to be incorrect.\\n\\nThe original claim\\n\\n\\\"When they are measured on a per capita basis, which is the only way they can reasonably be compared with other countries, they are second only to the emission cuts offered by Brazil,\\\" Mr Turnbull told Parliament on November 23, 2015.\\n\\nFact Check calculated the per capita emissions reduction targets of Australia, Brazil and several other countries.\\n\\noriginal claim\\n\\nAustralia's target means that emissions will be reduced by between 50.5 per cent and 51.9 per cent on 2005 levels per capita by 2030.\\n\\nBrazil's target, calculated as a 53 per cent reduction on 2005 levels by 2030 per capita, stands above Australia, but Switzerland (60.6 per cent) and Norway (56.7 per cent) are both above Brazil.\\n\\nFurthermore, Iceland (52.1 per cent) sits between Australia and Brazil.\\n\\nBy these calculations, the emissions targets which Australia took to Paris were at most fifth in the world.\\n\\nUltimately, Mr Turnbull was, and Mr Frydenberg is, incorrect.\",\n",
      "  \"text\" : \"<p>In 2015, Australia went to the Paris climate conference with a reduction target of 26 to 28 per cent of its 2005 emissions by 2030.</p><p>Minister for Resources, Energy and Northern Australia, Josh Frydenberg, characterised this target as \\\"extremely significant\\\" in comparison with the rest of the world on ABC TV's <a href=\\\"http://www.abc.net.au/tv/qanda/txt/s4411550.htm\\\" target=\\\"_self\\\" title=\\\"\\\">Q&amp;A</a>.</p><p>\\\"The target we took to Paris which was to reduce our emissions by 26 to 28 per cent on 2005 levels by 2030, saw the second highest target taken to Paris on a per capita basis,\\\" he said.</p><p>Fact Check tested a similar claim from Prime Minister Malcolm Turnbull before the Paris conference in 2015 — that claim was found to be incorrect.</p><h4>The original claim</h4><p>\\\"When they are measured on a per capita basis, which is the only way they can reasonably be compared with other countries, they are second only to the emission cuts offered by Brazil,\\\" Mr Turnbull <a href=\\\"http://parlinfo.aph.gov.au/parlInfo/search/display/display.w3p;db=CHAMBER;id=chamber%!F(MISSING)hansardr%!F(MISSING)4542f24a-411d-41aa-874c-00a76d8af37f%!F(MISSING)0135;query=Id%!A(MISSING)%!c(MISSING)hamber%!F(MISSING)hansardr%!F(MISSING)4542f24a-411d-41aa-874c-00a76d8af37f%!F(MISSING)0000%!\\(MISSING)\" target=\\\"_self\\\" title=\\\"\\\">told Parliament</a> on November 23, 2015.</p><p>Fact Check calculated the per capita emissions reduction targets of Australia, Brazil and several other countries.</p><p> </p><p>Australia's target means that emissions will be reduced by between 50.5 per cent and 51.9 per cent on 2005 levels per capita by 2030.</p><p>Brazil's target, calculated as a 53 per cent reduction on 2005 levels by 2030 per capita, stands above Australia, but Switzerland (60.6 per cent) and Norway (56.7 per cent) are both above Brazil.</p><p>Furthermore, Iceland (52.1 per cent) sits between Australia and Brazil.</p><p>By these calculations, the emissions targets which Australia took to Paris were at most fifth in the world.</p><p>Ultimately, Mr Turnbull was, and Mr Frydenberg is, incorrect.</p>\"\n",
      "}\n",
      "dict_keys(['firstPublishedDate', 'captionPlain', 'caption', 'canonicalUrl', 'location', 'teaserTitle', 'teaserTextPlain', 'duration', 'id', 'rootNavigation', 'mediaAvailableFrom', 'contentGenre', 'version', 'bylinePlain', 'subject', 'shortTeaserTitle', 'docType', 'mediaAvailableTo', 'importance', 'relatedItems', 'lastPublishedDate', 'renditions', 'latitude', 'keywords', 'byline', 'title', 'shortTeaserTextPlain', 'shortTeaserText', 'longitude', 'teaserText'])\n",
      "dict_keys(['firstPublishedDate', 'captionPlain', 'caption', 'canonicalUrl', 'teaserTitle', 'teaserTextPlain', 'duration', 'id', 'rootNavigation', 'mediaAvailableFrom', 'contentGenre', 'version', 'bylinePlain', 'mediaAvailableTo', 'shortTeaserTitle', 'docType', 'importance', 'relatedItems', 'lastPublishedDate', 'renditions', 'keywords', 'byline', 'title', 'shortTeaserTextPlain', 'shortTeaserText', 'teaserText'])\n",
      "dict_keys(['firstPublishedDate', 'captionPlain', 'caption', 'canonicalUrl', 'teaserTitle', 'teaserTextPlain', 'duration', 'id', 'rootNavigation', 'mediaAvailableFrom', 'contentGenre', 'version', 'bylinePlain', 'mediaAvailableTo', 'shortTeaserTitle', 'docType', 'importance', 'relatedItems', 'lastPublishedDate', 'renditions', 'keywords', 'byline', 'title', 'shortTeaserTextPlain', 'shortTeaserText', 'teaserText'])\n",
      "dict_keys(['firstPublishedDate', 'captionPlain', 'caption', 'canonicalUrl', 'teaserTitle', 'teaserTextPlain', 'duration', 'id', 'rootNavigation', 'mediaAvailableFrom', 'contentGenre', 'version', 'bylinePlain', 'mediaAvailableTo', 'shortTeaserTitle', 'docType', 'importance', 'relatedItems', 'lastPublishedDate', 'renditions', 'keywords', 'byline', 'title', 'shortTeaserTextPlain', 'shortTeaserText', 'teaserText'])\n",
      "dict_keys(['firstPublishedDate', 'captionPlain', 'caption', 'canonicalUrl', 'location', 'teaserTitle', 'teaserTextPlain', 'duration', 'id', 'rootNavigation', 'mediaAvailableFrom', 'contentGenre', 'version', 'bylinePlain', 'subject', 'shortTeaserTitle', 'docType', 'mediaAvailableTo', 'importance', 'relatedItems', 'lastPublishedDate', 'renditions', 'latitude', 'keywords', 'byline', 'title', 'shortTeaserTextPlain', 'shortTeaserText', 'longitude', 'teaserText'])\n",
      "dict_keys(['firstPublishedDate', 'captionPlain', 'caption', 'canonicalUrl', 'teaserTitle', 'teaserTextPlain', 'duration', 'id', 'rootNavigation', 'mediaAvailableFrom', 'contentGenre', 'version', 'bylinePlain', 'mediaAvailableTo', 'shortTeaserTitle', 'docType', 'importance', 'relatedItems', 'lastPublishedDate', 'renditions', 'keywords', 'byline', 'title', 'shortTeaserTextPlain', 'shortTeaserText', 'teaserText'])\n",
      "dict_keys(['firstPublishedDate', 'captionPlain', 'caption', 'canonicalUrl', 'teaserTitle', 'teaserTextPlain', 'duration', 'id', 'rootNavigation', 'mediaAvailableFrom', 'contentGenre', 'version', 'bylinePlain', 'mediaAvailableTo', 'shortTeaserTitle', 'docType', 'importance', 'relatedItems', 'lastPublishedDate', 'renditions', 'keywords', 'byline', 'title', 'shortTeaserTextPlain', 'shortTeaserText', 'teaserText'])\n",
      "dict_keys(['firstPublishedDate', 'captionPlain', 'caption', 'canonicalUrl', 'teaserTitle', 'teaserTextPlain', 'duration', 'id', 'rootNavigation', 'mediaAvailableFrom', 'contentGenre', 'version', 'bylinePlain', 'mediaAvailableTo', 'shortTeaserTitle', 'docType', 'importance', 'relatedItems', 'lastPublishedDate', 'renditions', 'keywords', 'byline', 'title', 'shortTeaserTextPlain', 'shortTeaserText', 'teaserText'])\n",
      "dict_keys(['firstPublishedDate', 'captionPlain', 'caption', 'canonicalUrl', 'teaserTitle', 'teaserTextPlain', 'duration', 'id', 'rootNavigation', 'mediaAvailableFrom', 'contentGenre', 'version', 'bylinePlain', 'mediaAvailableTo', 'shortTeaserTitle', 'docType', 'importance', 'relatedItems', 'lastPublishedDate', 'renditions', 'keywords', 'byline', 'title', 'shortTeaserTextPlain', 'shortTeaserText', 'teaserText'])\n"
     ]
    }
   ],
   "source": [
    "for link in links:\n",
    "    abcid = link['href'].split('/')[-1]\n",
    "    url = \"https://content-api-govhack.abc-prod.net.au/v1/\" + abcid\n",
    "    data = requests.get(url).text\n",
    "    try:\n",
    "        jsondoc = json.loads(data)\n",
    "    except:\n",
    "        print(\"Bad JSON\")\n",
    "        print (data)\n",
    "        continue\n",
    "    try:\n",
    "        article = dict()\n",
    "        article['url'] = url\n",
    "        article['headline'] = jsondoc['shortTeaserTextPlain']\n",
    "        article['content'] = jsondoc['textPlain']\n",
    "        article['link'] = url\n",
    "        article['keywords'] = jsondoc['keywords']\n",
    "        article['source'] = \"ABC Fact Check\"\n",
    "        thisline.append(article)\n",
    "    except:\n",
    "        print (jsondoc.keys())"
   ]
  },
  {
   "cell_type": "code",
   "execution_count": 22,
   "metadata": {
    "collapsed": false
   },
   "outputs": [],
   "source": [
    "test = requests.get(\"https://content-api-govhack.abc-prod.net.au/v1/7509112\")"
   ]
  },
  {
   "cell_type": "code",
   "execution_count": 24,
   "metadata": {
    "collapsed": true
   },
   "outputs": [
    {
     "data": {
      "text/plain": [
       "'{\\n  \"id\" : 7509112,\\n  \"docType\" : \"Article\",\\n  \"title\" : \"Fact Check zombie: Bill Shorten repeats misleading Tony Abbott and Joe Hockey claim on changing the GST\",\\n  \"shortTeaserTitle\" : \"Fact Check zombie: GST on tampons\",\\n  \"teaserTitle\" : \"Fact Check zombie: Bill Shorten repeats misleading Tony Abbott and Joe Hockey claim on changing the GST\",\\n  \"shortTeaserTextPlain\" : \"Zombie alert! Bill Shorten repeats misleading Tony Abbott and Joe Hockey claim on changing the GST.\",\\n  \"teaserTextPlain\" : \"Opposition Leader Bill Shorten has confirmed that Labor will not be scrapping the GST on tampons if elected, despite a concerted campaign from the public to do so — a backflip from a previous position.\\\\n\\\\n\\\\\"In terms of the GST on tampons, in an ideal world we would scrap that. But in order to do that you have to get the concurrence of state premiers,\\\\\" Mr Shorten told a press conference on June 10, 2016.\\\\n\\\\nFact Check has already tested claims on whether state assent would be needed to change the GST.\\\\n\\\\nCuriously, these claims came from the other side of the political divide — from former treasurer Joe Hockey and former prime minister Tony Abbott, when they still occupied those positions.\",\\n  \"contentGenre\" : \"Current\",\\n  \"thumbnailLink\" : {\\n    \"id\" : 7510060,\\n    \"imageLinks\" : {\\n      \"thumbnail-4x3\" : \"http://www.abc.net.au/cm/rimage/7510060-4x3-thumbnail.png?v=3\",\\n      \"large-4x3\" : \"http://www.abc.net.au/cm/rimage/7510060-4x3-large.png?v=3\",\\n      \"thumbnail-16x9\" : \"http://www.abc.net.au/cm/rimage/7510060-16x9-thumbnail.png?v=3\",\\n      \"large-16x9\" : \"http://www.abc.net.au/cm/rimage/7510060-16x9-large.png?v=3\",\\n      \"thumbnail-1x1\" : \"http://www.abc.net.au/cm/rimage/7510060-1x1-thumbnail.png?v=3\",\\n      \"large-1x1\" : \"http://www.abc.net.au/cm/rimage/7510060-1x1-large.png?v=3\",\\n      \"thumbnail-3x2\" : \"http://www.abc.net.au/cm/rimage/7510060-3x2-thumbnail.png?v=3\",\\n      \"large-3x2\" : \"http://www.abc.net.au/cm/rimage/7510060-3x2-large.png?v=3\",\\n      \"thumbnail-3x4\" : \"http://www.abc.net.au/cm/rimage/7510060-3x4-thumbnail.png?v=3\",\\n      \"large-3x4\" : \"http://www.abc.net.au/cm/rimage/7510060-3x4-large.png?v=3\"\\n    }\\n  },\\n  \"relatedItems\" : [ {\\n    \"id\" : 7510050,\\n    \"shortTeaserTitle\" : \"Fact Check zombie: Bill Shorten repeats misleading Tony Abbott and Joe Hockey claim on changing the GST\"\\n  } ],\\n  \"subject\" : [ {\\n    \"name\" : \"Tax\",\\n    \"id\" : 1594,\\n    \"parent\" : {\\n      \"name\" : \"Government and Politics\",\\n      \"id\" : 1534\\n    }\\n  }, {\\n    \"name\" : \"Federal Elections\",\\n    \"id\" : 1584,\\n    \"parent\" : {\\n      \"name\" : \"Elections\",\\n      \"id\" : 1538,\\n      \"parent\" : {\\n        \"name\" : \"Government and Politics\",\\n        \"id\" : 1534\\n      }\\n    }\\n  }, {\\n    \"name\" : \"Alp\",\\n    \"id\" : 1562,\\n    \"parent\" : {\\n      \"name\" : \"Political Parties\",\\n      \"id\" : 1544,\\n      \"parent\" : {\\n        \"name\" : \"Government and Politics\",\\n        \"id\" : 1534\\n      }\\n    }\\n  } ],\\n  \"firstPublishedDate\" : \"2016-06-15T06:59:36+00:00\",\\n  \"lastPublishedDate\" : \"2016-06-15T07:01:48+00:00\",\\n  \"shortTeaserText\" : \"<p>Zombie alert! Bill Shorten repeats misleading Tony Abbott and Joe Hockey claim on changing the GST.</p>\",\\n  \"teaserText\" : \"<p>Opposition Leader Bill Shorten has confirmed that Labor will not be scrapping the GST on tampons if elected, despite a concerted campaign from the public to do so — a backflip from a previous position.</p><p>\\\\\"In terms of the GST on tampons, in an ideal world we would scrap that. But in order to do that you have to get the concurrence of state premiers,\\\\\" Mr Shorten told a press conference on June 10, 2016.</p><p>Fact Check has already tested claims on whether state assent would be needed to change the GST.</p><p>Curiously, these claims came from the other side of the political divide — from former treasurer Joe Hockey and former prime minister Tony Abbott, when they still occupied those positions.</p>\",\\n  \"keywords\" : \"zombie, tax, gst, tampons, sanitary, bill shorten, tony abbott, liberals, labor\",\\n  \"version\" : 9,\\n  \"importance\" : 5,\\n  \"canonicalUrl\" : \"http://www.abc.net.au/news/2016-06-15/fact-check-zombie-bill-shorten-repeats-misleading-claim/7509112\",\\n  \"rootNavigation\" : {\\n    \"id\" : 45902,\\n    \"segment\" : \"news\",\\n    \"title\" : \"ABC News\"\\n  },\\n  \"textPlain\" : \"Opposition Leader Bill Shorten has confirmed that Labor will not be scrapping the GST on tampons if elected, despite a concerted campaign from the public to do so — a backflip from a previous position.\\\\n\\\\nclaim\\\\n\\\\n\\\\\"In terms of the GST on tampons, in an ideal world we would scrap that. But in order to do that you have to get the concurrence of state premiers,\\\\\" Mr Shorten told a press conference on June 10, 2016.\\\\n\\\\nFact Check has already tested claims on whether state assent would be needed to change the GST.\\\\n\\\\nCuriously, these claims came from the other side of the political divide — from former treasurer Joe Hockey and former prime minister Tony Abbott, when they still occupied those positions.\\\\n\\\\nFact Check found their claims to be misleading.\\\\n\\\\nThe original claim\\\\n\\\\nMr Abbott made this claim on several occasions.\\\\n\\\\n\\\\\"We can\\'t change the GST without having all the states and territories on side and without having a consensus in the national parliament,\\\\\" Mr Abbott said at a doorstop on March 30, 2015.\\\\n\\\\nMr Abbott repeated the claim in response to a question from Mr Shorten in the House of Representatives in May, 2015 about removing the GST on tampons: \\\\\"As the Leader of the Opposition well knows, the GST is a tax which is imposed for the states. It is spent by the states. Changes to the GST are absolutely a matter for the states and territories.\\\\\"\\\\n\\\\nA day earlier, in response to a question about removing the GST from sanitary items on ABC\\'s Q&A, then treasurer Joe Hockey said: \\\\\"I\\'d need the agreement of the states ... I will give you this undertaking: I will raise it with the states at the next meeting of the treasurers in July.\\\\\"\\\\n\\\\nFact Check examined the GST Act 1999, as well as the agreement made with the states in 1998, and consulted experts to determine whether the assent of the states is required to change the GST.\\\\n\\\\nIndeed, the Act states: \\\\\"The Parliament acknowledges that the Commonwealth will maintain the rate and base of the GST in accordance with the Agreement on Principles for the Reform of Commonwealth-State Financial Relations endorsed at the Special Premiers\\' Conference in Canberra on 13 November 1998.\\\\\"\\\\n\\\\nAnd part 3 of the agreement concurs:\\\\n\\\\nSubject to clauses 34, 35 and 36 of this Agreement, after the introduction of the GST, any proposal to vary the GST base will require:\\\\nthe unanimous support of the State and Territory Governments;\\\\nthe endorsement by the Commonwealth Government of the day; and\\\\nthe passage of relevant legislation by both Houses of the Commonwealth Parliament.\\\\n\\\\n\\\\n\\\\nHowever, published expert legal opinion found that despite the provisions in the agreement, the agreement is judicially unenforceable.\\\\n\\\\n\\\\\"The GST intergovernmental agreement is, we think, a prime example of the kind of political compact enforceable (so to speak) only by political sanctions ultimately at the hands of the electors. It follows that it is not truly legally i.e. judicially enforceable at all: for a court to venture on that course would be, as Sir Owen Dixon put it, to extend the court\\'s \\'true function into a domain that does not belong to it\\',\\\\\" a legal opinion commissioned by the Australian newspaper from Bret Walker SC and A.D Lang said.\\\\n\\\\nhockeyabbott\\\\n\\\\nLegal academics Fact Check spoke said that legislation could not be used to bind a future parliament.\\\\n\\\\nAnne Twomey, from the University of Sydney Law School said: \\\\\"The GST legislation can be amended at any time by the Commonwealth Parliament by ordinary majorities in each house. Although it says that the states must agree to changes in the rate and base of the GST, this can simply be amended or repealed by ordinary Commonwealth legislation.\\\\\"\\\\n\\\\nAnd George Williams from UNSW told Fact Check: \\\\\"The Act requires their consent, but there\\'s nothing to stop Parliament changing the act to remove that requirement. It\\'s a self-imposed requirement that can be easily disposed of by way of an amendment. There is no doubt that federal Parliament can therefore make the change unilaterally if it desires to do so.\\\\\"\\\\n\\\\nUltimately, Fact Check found that the only factor truly preventing the Government from removing the GST on tampons was a potential political backlash, not a legal roadblock, and that if Mr Abbott meant that a government may not attempt to change the GST without the support of the states and territories because it would be politically difficult, he should have said so.\\\\n\\\\nSo Mr Abbott and Mr Hockey\\'s claims about changing the GST were misleading, just as Mr Shorten\\'s is today.\",\\n  \"text\" : \"<p>Opposition Leader Bill Shorten has confirmed that Labor will not be scrapping the GST on tampons if elected, despite <a href=\\\\\"https://www.communityrun.org/petitions/stop-taxing-my-period\\\\\" target=\\\\\"_self\\\\\" title=\\\\\"\\\\\">a concerted campaign from the public to do so</a> — a backflip from <a href=\\\\\"http://parlinfo.aph.gov.au/parlInfo/search/display/display.w3p;query=Id%!A(MISSING)%!c(MISSING)hamber%!F(MISSING)hansardr%!F(MISSING)5005d996-a229-4d88-a18a-97e4c70215a3%!F(MISSING)0054%!\\\\(MISSING)\" target=\\\\\"_self\\\\\" title=\\\\\"\\\\\">a previous position.</a></p><p> </p><p>\\\\\"In terms of the GST on tampons, in an ideal world we would scrap that. But in order to do that you have to get the concurrence of state premiers,\\\\\" Mr Shorten told a <a href=\\\\\"http://www.billshorten.com.au/press_conference_sydney_friday_10_june_2016\\\\\" target=\\\\\"_self\\\\\" title=\\\\\"\\\\\">press conference</a> on June 10, 2016.</p><p>Fact Check has already tested claims on whether state assent would be needed to change the GST.</p><p>Curiously,<strong> </strong>these claims came from the other side of the political divide — from former treasurer Joe Hockey and former prime minister Tony Abbott, when they still occupied those positions.</p><p>Fact Check found their claims to be misleading.</p><h4>The original claim</h4><p>Mr Abbott made this claim on several occasions.</p><p>\\\\\"We can\\'t change the GST without having all the states and territories on side and without having a consensus in the national parliament,\\\\\" Mr Abbott <a href=\\\\\"http://www.pm.gov.au/media/2015-03-30/joint-doorstop-interview-cressy\\\\\">said at a doorstop on March 30, 2015.</a></p><p>Mr Abbott repeated the claim <a href=\\\\\"http://parlinfo.aph.gov.au/parlInfo/download/chamber/hansardr/5005d996-a229-4d88-a18a-97e4c70215a3/toc_pdf/House%!o(MISSING)f%!R(MISSING)epresentatives_2015_05_26_3462_Official.pdf;fileType=application%!F(MISSING)pdf#search=%!c(MISSING)hamber/hansardr/5005d996-a229-4d88-a18a-97e4c70215a3/0000%!\\\\(MISSING)\" target=\\\\\"_self\\\\\" title=\\\\\"\\\\\">in response</a> to a question from Mr Shorten in the House of Representatives in May, 2015 about removing the GST on tampons: \\\\\"As the Leader of the Opposition well knows, the GST is a tax which is imposed for the states. It is spent by the states. Changes to the GST are absolutely a matter for the states and territories.\\\\\"</p><p>A day earlier, in response to a question about removing the GST from sanitary items on <a href=\\\\\"http://www.abc.net.au/tv/qanda/txt/s4219741.htm\\\\\" target=\\\\\"_self\\\\\" title=\\\\\"\\\\\">ABC\\'s Q&amp;A</a>, then treasurer Joe Hockey said: \\\\\"I\\'d need the agreement of the states ... I will give you this undertaking: I will raise it with the states at the next meeting of the treasurers in July.\\\\\"</p><p>Fact Check examined the <a href=\\\\\"http://www.austlii.edu.au/au/legis/cth/consol_act/antsasta1999402/s1.3.html\\\\\" target=\\\\\"_self\\\\\" title=\\\\\"\\\\\">GST Act 1999</a>, as well as the <a href=\\\\\"http://www.coag.gov.au/node/75\\\\\" target=\\\\\"_self\\\\\" title=\\\\\"\\\\\">agreement made with the states in 1998</a>, and consulted experts to determine whether the assent of the states is required to change the GST.</p><p>Indeed, the Act states: \\\\\"The Parliament acknowledges that the Commonwealth will maintain the rate and base of the GST in accordance with the Agreement on Principles for the Reform of Commonwealth-State Financial Relations endorsed at the Special Premiers\\' Conference in Canberra on 13 November 1998.\\\\\"</p><p>And part 3 of the agreement concurs:</p><blockquote><p>Subject to clauses 34, 35 and 36 of this Agreement, after the introduction of the GST, any proposal to vary the GST base will require:</p><ul><li>the unanimous support of the State and Territory Governments;</li></ul><ul><li>the endorsement by the Commonwealth Government of the day; and</li></ul><ul><li>the passage of relevant legislation by both Houses of the Commonwealth Parliament.</li></ul><p> </p> </blockquote><p>However, published expert legal opinion found that despite the provisions in the agreement, the agreement is judicially unenforceable.</p><p>\\\\\"The GST intergovernmental agreement is, we think, a prime example of the kind of political compact enforceable (so to speak) only by political sanctions ultimately at the hands of the electors. It follows that it is not truly legally i.e. judicially enforceable at all: for a court to venture on that course would be, as Sir Owen Dixon put it, to extend the court\\'s \\'true function into a domain that does not belong to it\\',\\\\\" a <a href=\\\\\"http://resources.news.com.au/files/2013/08/18/1226699/498693-gstreport18082013.pdf\\\\\" target=\\\\\"_self\\\\\" title=\\\\\"\\\\\">legal opinion commissioned by the Australian newspaper</a> from Bret Walker SC and A.D Lang said.</p><p> </p><p>Legal academics Fact Check spoke said that legislation could not be used to bind a future parliament.</p><p>Anne Twomey, from the University of Sydney Law School said: \\\\\"The GST legislation can be amended at any time by the Commonwealth Parliament by ordinary majorities in each house. Although it says that the states must agree to changes in the rate and base of the GST, this can simply be amended or repealed by ordinary Commonwealth legislation.\\\\\"</p><p>And George Williams from UNSW told Fact Check: \\\\\"The Act requires their consent, but there\\'s nothing to stop Parliament changing the act to remove that requirement. It\\'s a self-imposed requirement that can be easily disposed of by way of an amendment. There is no doubt that federal Parliament can therefore make the change unilaterally if it desires to do so.\\\\\"</p><p>Ultimately, Fact Check found that the only factor truly preventing the Government from removing the GST on tampons was a potential political backlash, not a legal roadblock, and that if Mr Abbott meant that a government may not attempt to change the GST without the support of the states and territories because it would be politically difficult, he should have said so.</p><p>So Mr Abbott and Mr Hockey\\'s claims about changing the GST were misleading, just as Mr Shorten\\'s is today.</p>\"\\n}'"
      ]
     },
     "execution_count": 24,
     "metadata": {},
     "output_type": "execute_result"
    }
   ],
   "source": [
    "test.text"
   ]
  },
  {
   "cell_type": "code",
   "execution_count": null,
   "metadata": {
    "collapsed": true
   },
   "outputs": [],
   "source": [
    "results.extend(thisline)"
   ]
  },
  {
   "cell_type": "code",
   "execution_count": null,
   "metadata": {
    "collapsed": false
   },
   "outputs": [],
   "source": [
    "thisline[1]"
   ]
  },
  {
   "cell_type": "code",
   "execution_count": 16,
   "metadata": {
    "collapsed": false
   },
   "outputs": [
    {
     "ename": "KeyError",
     "evalue": "'textPlain'",
     "output_type": "error",
     "traceback": [
      "\u001b[0;31m---------------------------------------------------------------------------\u001b[0m",
      "\u001b[0;31mKeyError\u001b[0m                                  Traceback (most recent call last)",
      "\u001b[0;32m<ipython-input-16-c0efaaddfb6b>\u001b[0m in \u001b[0;36m<module>\u001b[0;34m()\u001b[0m\n\u001b[0;32m----> 1\u001b[0;31m \u001b[0mthisline\u001b[0m\u001b[0;34m[\u001b[0m\u001b[0;36m1\u001b[0m\u001b[0;34m]\u001b[0m\u001b[0;34m[\u001b[0m\u001b[0;34m'textPlain'\u001b[0m\u001b[0;34m]\u001b[0m\u001b[0;34m\u001b[0m\u001b[0m\n\u001b[0m",
      "\u001b[0;31mKeyError\u001b[0m: 'textPlain'"
     ]
    }
   ],
   "source": [
    "thisline[1]['textPlain']"
   ]
  },
  {
   "cell_type": "code",
   "execution_count": 34,
   "metadata": {
    "collapsed": false
   },
   "outputs": [],
   "source": [
    "df = pd.DataFrame(results)"
   ]
  },
  {
   "cell_type": "code",
   "execution_count": 40,
   "metadata": {
    "collapsed": false
   },
   "outputs": [],
   "source": [
    "df = df[['link','source','keywords','headline','content']]"
   ]
  },
  {
   "cell_type": "code",
   "execution_count": 41,
   "metadata": {
    "collapsed": false
   },
   "outputs": [
    {
     "name": "stderr",
     "output_type": "stream",
     "text": [
      "C:\\Anaconda3\\lib\\site-packages\\ipykernel\\__main__.py:1: SettingWithCopyWarning: \n",
      "A value is trying to be set on a copy of a slice from a DataFrame.\n",
      "Try using .loc[row_indexer,col_indexer] = value instead\n",
      "\n",
      "See the caveats in the documentation: http://pandas.pydata.org/pandas-docs/stable/indexing.html#indexing-view-versus-copy\n",
      "  if __name__ == '__main__':\n"
     ]
    }
   ],
   "source": [
    "df['content'] = df['content'].fillna(\" \")"
   ]
  },
  {
   "cell_type": "code",
   "execution_count": 42,
   "metadata": {
    "collapsed": false
   },
   "outputs": [
    {
     "name": "stderr",
     "output_type": "stream",
     "text": [
      "C:\\Anaconda3\\lib\\site-packages\\bs4\\__init__.py:166: UserWarning: No parser was explicitly specified, so I'm using the best available HTML parser for this system (\"lxml\"). This usually isn't a problem, but if you run this code on another system, or in a different virtual environment, it may use a different parser and behave differently.\n",
      "\n",
      "To get rid of this warning, change this:\n",
      "\n",
      " BeautifulSoup([your markup])\n",
      "\n",
      "to this:\n",
      "\n",
      " BeautifulSoup([your markup], \"lxml\")\n",
      "\n",
      "  markup_type=markup_type))\n",
      "C:\\Anaconda3\\lib\\site-packages\\ipykernel\\__main__.py:1: SettingWithCopyWarning: \n",
      "A value is trying to be set on a copy of a slice from a DataFrame.\n",
      "Try using .loc[row_indexer,col_indexer] = value instead\n",
      "\n",
      "See the caveats in the documentation: http://pandas.pydata.org/pandas-docs/stable/indexing.html#indexing-view-versus-copy\n",
      "  if __name__ == '__main__':\n"
     ]
    }
   ],
   "source": [
    "df['content'] = df['content'].apply(clean_text)"
   ]
  },
  {
   "cell_type": "code",
   "execution_count": 43,
   "metadata": {
    "collapsed": true
   },
   "outputs": [
    {
     "ename": "KeyError",
     "evalue": "'textPlain'",
     "output_type": "error",
     "traceback": [
      "\u001b[0;31m---------------------------------------------------------------------------\u001b[0m",
      "\u001b[0;31mKeyError\u001b[0m                                  Traceback (most recent call last)",
      "\u001b[0;32mC:\\Anaconda3\\lib\\site-packages\\pandas\\indexes\\base.py\u001b[0m in \u001b[0;36mget_loc\u001b[0;34m(self, key, method, tolerance)\u001b[0m\n\u001b[1;32m   1944\u001b[0m             \u001b[0;32mtry\u001b[0m\u001b[0;34m:\u001b[0m\u001b[0;34m\u001b[0m\u001b[0m\n\u001b[0;32m-> 1945\u001b[0;31m                 \u001b[0;32mreturn\u001b[0m \u001b[0mself\u001b[0m\u001b[0;34m.\u001b[0m\u001b[0m_engine\u001b[0m\u001b[0;34m.\u001b[0m\u001b[0mget_loc\u001b[0m\u001b[0;34m(\u001b[0m\u001b[0mkey\u001b[0m\u001b[0;34m)\u001b[0m\u001b[0;34m\u001b[0m\u001b[0m\n\u001b[0m\u001b[1;32m   1946\u001b[0m             \u001b[0;32mexcept\u001b[0m \u001b[0mKeyError\u001b[0m\u001b[0;34m:\u001b[0m\u001b[0;34m\u001b[0m\u001b[0m\n",
      "\u001b[0;32mpandas\\index.pyx\u001b[0m in \u001b[0;36mpandas.index.IndexEngine.get_loc (pandas\\index.c:4154)\u001b[0;34m()\u001b[0m\n",
      "\u001b[0;32mpandas\\index.pyx\u001b[0m in \u001b[0;36mpandas.index.IndexEngine.get_loc (pandas\\index.c:4018)\u001b[0;34m()\u001b[0m\n",
      "\u001b[0;32mpandas\\hashtable.pyx\u001b[0m in \u001b[0;36mpandas.hashtable.PyObjectHashTable.get_item (pandas\\hashtable.c:12368)\u001b[0;34m()\u001b[0m\n",
      "\u001b[0;32mpandas\\hashtable.pyx\u001b[0m in \u001b[0;36mpandas.hashtable.PyObjectHashTable.get_item (pandas\\hashtable.c:12322)\u001b[0;34m()\u001b[0m\n",
      "\u001b[0;31mKeyError\u001b[0m: 'textPlain'",
      "\nDuring handling of the above exception, another exception occurred:\n",
      "\u001b[0;31mKeyError\u001b[0m                                  Traceback (most recent call last)",
      "\u001b[0;32m<ipython-input-43-e8eae8f4ad75>\u001b[0m in \u001b[0;36m<module>\u001b[0;34m()\u001b[0m\n\u001b[0;32m----> 1\u001b[0;31m \u001b[0mdf\u001b[0m\u001b[0;34m[\u001b[0m\u001b[0;34m'textPlain'\u001b[0m\u001b[0;34m]\u001b[0m \u001b[0;34m=\u001b[0m \u001b[0mdf\u001b[0m\u001b[0;34m[\u001b[0m\u001b[0;34m'textPlain'\u001b[0m\u001b[0;34m]\u001b[0m\u001b[0;34m.\u001b[0m\u001b[0mfillna\u001b[0m\u001b[0;34m(\u001b[0m\u001b[0mdf\u001b[0m\u001b[0;34m[\u001b[0m\u001b[0;34m'content'\u001b[0m\u001b[0;34m]\u001b[0m\u001b[0;34m)\u001b[0m\u001b[0;34m\u001b[0m\u001b[0m\n\u001b[0m",
      "\u001b[0;32mC:\\Anaconda3\\lib\\site-packages\\pandas\\core\\frame.py\u001b[0m in \u001b[0;36m__getitem__\u001b[0;34m(self, key)\u001b[0m\n\u001b[1;32m   1995\u001b[0m             \u001b[0;32mreturn\u001b[0m \u001b[0mself\u001b[0m\u001b[0;34m.\u001b[0m\u001b[0m_getitem_multilevel\u001b[0m\u001b[0;34m(\u001b[0m\u001b[0mkey\u001b[0m\u001b[0;34m)\u001b[0m\u001b[0;34m\u001b[0m\u001b[0m\n\u001b[1;32m   1996\u001b[0m         \u001b[0;32melse\u001b[0m\u001b[0;34m:\u001b[0m\u001b[0;34m\u001b[0m\u001b[0m\n\u001b[0;32m-> 1997\u001b[0;31m             \u001b[0;32mreturn\u001b[0m \u001b[0mself\u001b[0m\u001b[0;34m.\u001b[0m\u001b[0m_getitem_column\u001b[0m\u001b[0;34m(\u001b[0m\u001b[0mkey\u001b[0m\u001b[0;34m)\u001b[0m\u001b[0;34m\u001b[0m\u001b[0m\n\u001b[0m\u001b[1;32m   1998\u001b[0m \u001b[0;34m\u001b[0m\u001b[0m\n\u001b[1;32m   1999\u001b[0m     \u001b[0;32mdef\u001b[0m \u001b[0m_getitem_column\u001b[0m\u001b[0;34m(\u001b[0m\u001b[0mself\u001b[0m\u001b[0;34m,\u001b[0m \u001b[0mkey\u001b[0m\u001b[0;34m)\u001b[0m\u001b[0;34m:\u001b[0m\u001b[0;34m\u001b[0m\u001b[0m\n",
      "\u001b[0;32mC:\\Anaconda3\\lib\\site-packages\\pandas\\core\\frame.py\u001b[0m in \u001b[0;36m_getitem_column\u001b[0;34m(self, key)\u001b[0m\n\u001b[1;32m   2002\u001b[0m         \u001b[0;31m# get column\u001b[0m\u001b[0;34m\u001b[0m\u001b[0;34m\u001b[0m\u001b[0m\n\u001b[1;32m   2003\u001b[0m         \u001b[0;32mif\u001b[0m \u001b[0mself\u001b[0m\u001b[0;34m.\u001b[0m\u001b[0mcolumns\u001b[0m\u001b[0;34m.\u001b[0m\u001b[0mis_unique\u001b[0m\u001b[0;34m:\u001b[0m\u001b[0;34m\u001b[0m\u001b[0m\n\u001b[0;32m-> 2004\u001b[0;31m             \u001b[0;32mreturn\u001b[0m \u001b[0mself\u001b[0m\u001b[0;34m.\u001b[0m\u001b[0m_get_item_cache\u001b[0m\u001b[0;34m(\u001b[0m\u001b[0mkey\u001b[0m\u001b[0;34m)\u001b[0m\u001b[0;34m\u001b[0m\u001b[0m\n\u001b[0m\u001b[1;32m   2005\u001b[0m \u001b[0;34m\u001b[0m\u001b[0m\n\u001b[1;32m   2006\u001b[0m         \u001b[0;31m# duplicate columns & possible reduce dimensionality\u001b[0m\u001b[0;34m\u001b[0m\u001b[0;34m\u001b[0m\u001b[0m\n",
      "\u001b[0;32mC:\\Anaconda3\\lib\\site-packages\\pandas\\core\\generic.py\u001b[0m in \u001b[0;36m_get_item_cache\u001b[0;34m(self, item)\u001b[0m\n\u001b[1;32m   1348\u001b[0m         \u001b[0mres\u001b[0m \u001b[0;34m=\u001b[0m \u001b[0mcache\u001b[0m\u001b[0;34m.\u001b[0m\u001b[0mget\u001b[0m\u001b[0;34m(\u001b[0m\u001b[0mitem\u001b[0m\u001b[0;34m)\u001b[0m\u001b[0;34m\u001b[0m\u001b[0m\n\u001b[1;32m   1349\u001b[0m         \u001b[0;32mif\u001b[0m \u001b[0mres\u001b[0m \u001b[0;32mis\u001b[0m \u001b[0;32mNone\u001b[0m\u001b[0;34m:\u001b[0m\u001b[0;34m\u001b[0m\u001b[0m\n\u001b[0;32m-> 1350\u001b[0;31m             \u001b[0mvalues\u001b[0m \u001b[0;34m=\u001b[0m \u001b[0mself\u001b[0m\u001b[0;34m.\u001b[0m\u001b[0m_data\u001b[0m\u001b[0;34m.\u001b[0m\u001b[0mget\u001b[0m\u001b[0;34m(\u001b[0m\u001b[0mitem\u001b[0m\u001b[0;34m)\u001b[0m\u001b[0;34m\u001b[0m\u001b[0m\n\u001b[0m\u001b[1;32m   1351\u001b[0m             \u001b[0mres\u001b[0m \u001b[0;34m=\u001b[0m \u001b[0mself\u001b[0m\u001b[0;34m.\u001b[0m\u001b[0m_box_item_values\u001b[0m\u001b[0;34m(\u001b[0m\u001b[0mitem\u001b[0m\u001b[0;34m,\u001b[0m \u001b[0mvalues\u001b[0m\u001b[0;34m)\u001b[0m\u001b[0;34m\u001b[0m\u001b[0m\n\u001b[1;32m   1352\u001b[0m             \u001b[0mcache\u001b[0m\u001b[0;34m[\u001b[0m\u001b[0mitem\u001b[0m\u001b[0;34m]\u001b[0m \u001b[0;34m=\u001b[0m \u001b[0mres\u001b[0m\u001b[0;34m\u001b[0m\u001b[0m\n",
      "\u001b[0;32mC:\\Anaconda3\\lib\\site-packages\\pandas\\core\\internals.py\u001b[0m in \u001b[0;36mget\u001b[0;34m(self, item, fastpath)\u001b[0m\n\u001b[1;32m   3288\u001b[0m \u001b[0;34m\u001b[0m\u001b[0m\n\u001b[1;32m   3289\u001b[0m             \u001b[0;32mif\u001b[0m \u001b[0;32mnot\u001b[0m \u001b[0misnull\u001b[0m\u001b[0;34m(\u001b[0m\u001b[0mitem\u001b[0m\u001b[0;34m)\u001b[0m\u001b[0;34m:\u001b[0m\u001b[0;34m\u001b[0m\u001b[0m\n\u001b[0;32m-> 3290\u001b[0;31m                 \u001b[0mloc\u001b[0m \u001b[0;34m=\u001b[0m \u001b[0mself\u001b[0m\u001b[0;34m.\u001b[0m\u001b[0mitems\u001b[0m\u001b[0;34m.\u001b[0m\u001b[0mget_loc\u001b[0m\u001b[0;34m(\u001b[0m\u001b[0mitem\u001b[0m\u001b[0;34m)\u001b[0m\u001b[0;34m\u001b[0m\u001b[0m\n\u001b[0m\u001b[1;32m   3291\u001b[0m             \u001b[0;32melse\u001b[0m\u001b[0;34m:\u001b[0m\u001b[0;34m\u001b[0m\u001b[0m\n\u001b[1;32m   3292\u001b[0m                 \u001b[0mindexer\u001b[0m \u001b[0;34m=\u001b[0m \u001b[0mnp\u001b[0m\u001b[0;34m.\u001b[0m\u001b[0marange\u001b[0m\u001b[0;34m(\u001b[0m\u001b[0mlen\u001b[0m\u001b[0;34m(\u001b[0m\u001b[0mself\u001b[0m\u001b[0;34m.\u001b[0m\u001b[0mitems\u001b[0m\u001b[0;34m)\u001b[0m\u001b[0;34m)\u001b[0m\u001b[0;34m[\u001b[0m\u001b[0misnull\u001b[0m\u001b[0;34m(\u001b[0m\u001b[0mself\u001b[0m\u001b[0;34m.\u001b[0m\u001b[0mitems\u001b[0m\u001b[0;34m)\u001b[0m\u001b[0;34m]\u001b[0m\u001b[0;34m\u001b[0m\u001b[0m\n",
      "\u001b[0;32mC:\\Anaconda3\\lib\\site-packages\\pandas\\indexes\\base.py\u001b[0m in \u001b[0;36mget_loc\u001b[0;34m(self, key, method, tolerance)\u001b[0m\n\u001b[1;32m   1945\u001b[0m                 \u001b[0;32mreturn\u001b[0m \u001b[0mself\u001b[0m\u001b[0;34m.\u001b[0m\u001b[0m_engine\u001b[0m\u001b[0;34m.\u001b[0m\u001b[0mget_loc\u001b[0m\u001b[0;34m(\u001b[0m\u001b[0mkey\u001b[0m\u001b[0;34m)\u001b[0m\u001b[0;34m\u001b[0m\u001b[0m\n\u001b[1;32m   1946\u001b[0m             \u001b[0;32mexcept\u001b[0m \u001b[0mKeyError\u001b[0m\u001b[0;34m:\u001b[0m\u001b[0;34m\u001b[0m\u001b[0m\n\u001b[0;32m-> 1947\u001b[0;31m                 \u001b[0;32mreturn\u001b[0m \u001b[0mself\u001b[0m\u001b[0;34m.\u001b[0m\u001b[0m_engine\u001b[0m\u001b[0;34m.\u001b[0m\u001b[0mget_loc\u001b[0m\u001b[0;34m(\u001b[0m\u001b[0mself\u001b[0m\u001b[0;34m.\u001b[0m\u001b[0m_maybe_cast_indexer\u001b[0m\u001b[0;34m(\u001b[0m\u001b[0mkey\u001b[0m\u001b[0;34m)\u001b[0m\u001b[0;34m)\u001b[0m\u001b[0;34m\u001b[0m\u001b[0m\n\u001b[0m\u001b[1;32m   1948\u001b[0m \u001b[0;34m\u001b[0m\u001b[0m\n\u001b[1;32m   1949\u001b[0m         \u001b[0mindexer\u001b[0m \u001b[0;34m=\u001b[0m \u001b[0mself\u001b[0m\u001b[0;34m.\u001b[0m\u001b[0mget_indexer\u001b[0m\u001b[0;34m(\u001b[0m\u001b[0;34m[\u001b[0m\u001b[0mkey\u001b[0m\u001b[0;34m]\u001b[0m\u001b[0;34m,\u001b[0m \u001b[0mmethod\u001b[0m\u001b[0;34m=\u001b[0m\u001b[0mmethod\u001b[0m\u001b[0;34m,\u001b[0m \u001b[0mtolerance\u001b[0m\u001b[0;34m=\u001b[0m\u001b[0mtolerance\u001b[0m\u001b[0;34m)\u001b[0m\u001b[0;34m\u001b[0m\u001b[0m\n",
      "\u001b[0;32mpandas\\index.pyx\u001b[0m in \u001b[0;36mpandas.index.IndexEngine.get_loc (pandas\\index.c:4154)\u001b[0;34m()\u001b[0m\n",
      "\u001b[0;32mpandas\\index.pyx\u001b[0m in \u001b[0;36mpandas.index.IndexEngine.get_loc (pandas\\index.c:4018)\u001b[0;34m()\u001b[0m\n",
      "\u001b[0;32mpandas\\hashtable.pyx\u001b[0m in \u001b[0;36mpandas.hashtable.PyObjectHashTable.get_item (pandas\\hashtable.c:12368)\u001b[0;34m()\u001b[0m\n",
      "\u001b[0;32mpandas\\hashtable.pyx\u001b[0m in \u001b[0;36mpandas.hashtable.PyObjectHashTable.get_item (pandas\\hashtable.c:12322)\u001b[0;34m()\u001b[0m\n",
      "\u001b[0;31mKeyError\u001b[0m: 'textPlain'"
     ]
    }
   ],
   "source": [
    "df['textPlain'] = df['textPlain'].fillna(df['content'])"
   ]
  },
  {
   "cell_type": "code",
   "execution_count": null,
   "metadata": {
    "collapsed": false
   },
   "outputs": [],
   "source": [
    "newframe = df[pd.notnull(df['text'])]"
   ]
  },
  {
   "cell_type": "code",
   "execution_count": null,
   "metadata": {
    "collapsed": true
   },
   "outputs": [],
   "source": []
  },
  {
   "cell_type": "code",
   "execution_count": null,
   "metadata": {
    "collapsed": false
   },
   "outputs": [],
   "source": [
    "newframe"
   ]
  },
  {
   "cell_type": "code",
   "execution_count": null,
   "metadata": {
    "collapsed": true
   },
   "outputs": [],
   "source": [
    "df.to_pickle('explainers.pickle')"
   ]
  },
  {
   "cell_type": "code",
   "execution_count": 44,
   "metadata": {
    "collapsed": false
   },
   "outputs": [
    {
     "data": {
      "text/html": [
       "<div>\n",
       "<table border=\"1\" class=\"dataframe\">\n",
       "  <thead>\n",
       "    <tr style=\"text-align: right;\">\n",
       "      <th></th>\n",
       "      <th>link</th>\n",
       "      <th>source</th>\n",
       "      <th>keywords</th>\n",
       "      <th>headline</th>\n",
       "      <th>content</th>\n",
       "    </tr>\n",
       "  </thead>\n",
       "  <tbody>\n",
       "    <tr>\n",
       "      <th>0</th>\n",
       "      <td>http://theconversation.com/election-factcheck-...</td>\n",
       "      <td>The Conversation</td>\n",
       "      <td>Asylum seekers, Election factcheck, Election f...</td>\n",
       "      <td>Election FactCheck: Does the government spend ...</td>\n",
       "      <td>b\"Election FactCheck: Does the government spen...</td>\n",
       "    </tr>\n",
       "    <tr>\n",
       "      <th>1</th>\n",
       "      <td>http://theconversation.com/election-factcheck-...</td>\n",
       "      <td>The Conversation</td>\n",
       "      <td>Coalition, Election factcheck 2016, Federal el...</td>\n",
       "      <td>Has the Coalition invested an average of $5 bi...</td>\n",
       "      <td>b\"Election FactCheck: Has the Coalition invest...</td>\n",
       "    </tr>\n",
       "    <tr>\n",
       "      <th>2</th>\n",
       "      <td>http://theconversation.com/election-factcheck-...</td>\n",
       "      <td>The Conversation</td>\n",
       "      <td>Diagnostic tests, Election factcheck 2016, Hea...</td>\n",
       "      <td>Has the Coalition cut bulk-billing for patholo...</td>\n",
       "      <td>b\"Election FactCheck: has the Coalition cut bu...</td>\n",
       "    </tr>\n",
       "    <tr>\n",
       "      <th>3</th>\n",
       "      <td>http://theconversation.com/election-factcheck-...</td>\n",
       "      <td>The Conversation</td>\n",
       "      <td>Election factcheck, Employment, Federal electi...</td>\n",
       "      <td>Have 300,000 new jobs been created in the last...</td>\n",
       "      <td>b'Election FactCheck: Have 300,000 new jobs be...</td>\n",
       "    </tr>\n",
       "    <tr>\n",
       "      <th>4</th>\n",
       "      <td>http://theconversation.com/election-factcheck-...</td>\n",
       "      <td>The Conversation</td>\n",
       "      <td>Australian Charities and not-for-profit Commis...</td>\n",
       "      <td>Is the Australian Sex Party right about religi...</td>\n",
       "      <td>b\"Election FactCheck: is the Australian Sex Pa...</td>\n",
       "    </tr>\n",
       "    <tr>\n",
       "      <th>5</th>\n",
       "      <td>http://theconversation.com/election-factcheck-...</td>\n",
       "      <td>The Conversation</td>\n",
       "      <td>Capital gains tax, Capital gains tax concessio...</td>\n",
       "      <td>Does the government spend more on negative gea...</td>\n",
       "      <td>b\"Election FactCheck Q&amp;A: does the government ...</td>\n",
       "    </tr>\n",
       "    <tr>\n",
       "      <th>6</th>\n",
       "      <td>http://theconversation.com/election-factcheck-...</td>\n",
       "      <td>The Conversation</td>\n",
       "      <td>Climate change, Climate science, Election fact...</td>\n",
       "      <td>Are larger, more frequent storms predicted due...</td>\n",
       "      <td>b'Election FactCheck: are larger, more frequen...</td>\n",
       "    </tr>\n",
       "    <tr>\n",
       "      <th>7</th>\n",
       "      <td>http://theconversation.com/election-factcheck-...</td>\n",
       "      <td>The Conversation</td>\n",
       "      <td>Bill Shorten, Election factcheck 2016, Employm...</td>\n",
       "      <td>Have 50,000 full-time jobs been lost this year...</td>\n",
       "      <td>b\"Election FactCheck: have 50,000 full-time jo...</td>\n",
       "    </tr>\n",
       "    <tr>\n",
       "      <th>8</th>\n",
       "      <td>http://theconversation.com/election-factcheck-...</td>\n",
       "      <td>The Conversation</td>\n",
       "      <td>Election factcheck 2016, Federal election 2016...</td>\n",
       "      <td>Is it true no solely managed Commonwealth fish...</td>\n",
       "      <td>b\"Election FactCheck: is it true no solely man...</td>\n",
       "    </tr>\n",
       "    <tr>\n",
       "      <th>9</th>\n",
       "      <td>http://theconversation.com/election-factcheck-...</td>\n",
       "      <td>The Conversation</td>\n",
       "      <td>Bill Shorten, Debt, Election factcheck 2016, F...</td>\n",
       "      <td>Has $100 billion been added to Australia’s nat...</td>\n",
       "      <td>b\"Election FactCheck: has $100 billion been ad...</td>\n",
       "    </tr>\n",
       "    <tr>\n",
       "      <th>10</th>\n",
       "      <td>http://theconversation.com/election-factcheck-...</td>\n",
       "      <td>The Conversation</td>\n",
       "      <td>Chris Bowen, Election factcheck 2016, Federal ...</td>\n",
       "      <td>Has the Coalition presided over the most susta...</td>\n",
       "      <td>b\"Election FactCheck: Has the Coalition presid...</td>\n",
       "    </tr>\n",
       "    <tr>\n",
       "      <th>11</th>\n",
       "      <td>NaN</td>\n",
       "      <td>NaN</td>\n",
       "      <td>NaN</td>\n",
       "      <td>NaN</td>\n",
       "      <td>b''</td>\n",
       "    </tr>\n",
       "    <tr>\n",
       "      <th>12</th>\n",
       "      <td>http://theconversation.com/election-factcheck-...</td>\n",
       "      <td>The Conversation</td>\n",
       "      <td>Bill Shorten, Election factcheck 2016, Federal...</td>\n",
       "      <td>Has the government cut $80 billion from school...</td>\n",
       "      <td>b\"Election FactCheck: has the government cut $...</td>\n",
       "    </tr>\n",
       "    <tr>\n",
       "      <th>13</th>\n",
       "      <td>http://theconversation.com/election-factcheck-...</td>\n",
       "      <td>The Conversation</td>\n",
       "      <td>Election factcheck, Election factcheck 2016, F...</td>\n",
       "      <td>Is Labor planning to increase taxes by $100 bi...</td>\n",
       "      <td>b\"Election FactCheck: is Labor planning to inc...</td>\n",
       "    </tr>\n",
       "    <tr>\n",
       "      <th>14</th>\n",
       "      <td>http://theconversation.com/election-factcheck-...</td>\n",
       "      <td>The Conversation</td>\n",
       "      <td>Bill Shorten, Election factcheck, Election fac...</td>\n",
       "      <td>Does Labor have a $19.5b black hole in its fun...</td>\n",
       "      <td>b\"Election FactCheck: does Labor have a $19.5b...</td>\n",
       "    </tr>\n",
       "    <tr>\n",
       "      <th>15</th>\n",
       "      <td>http://theconversation.com/factcheck-was-barna...</td>\n",
       "      <td>The Conversation</td>\n",
       "      <td>Barnaby Joyce, Debt, Foreign debt, Public debt...</td>\n",
       "      <td>Was Barnaby Joyce right about Australia’s debt...</td>\n",
       "      <td>b\"FactCheck: was Barnaby Joyce right about Aus...</td>\n",
       "    </tr>\n",
       "    <tr>\n",
       "      <th>16</th>\n",
       "      <td>http://theconversation.com/election-factcheck-...</td>\n",
       "      <td>The Conversation</td>\n",
       "      <td>Adam Bandt, Arts funding, Australia Council, E...</td>\n",
       "      <td>Did the Coalition cut $105 million from Austra...</td>\n",
       "      <td>b'Election FactCheck: did the Coalition cut $1...</td>\n",
       "    </tr>\n",
       "    <tr>\n",
       "      <th>17</th>\n",
       "      <td>http://theconversation.com/election-factcheck-...</td>\n",
       "      <td>The Conversation</td>\n",
       "      <td>Election factcheck 2016, Peter Dutton, Refugee...</td>\n",
       "      <td>Are many refugees illiterate and innumerate?</td>\n",
       "      <td>b'Election FactCheck: are many refugees illite...</td>\n",
       "    </tr>\n",
       "    <tr>\n",
       "      <th>18</th>\n",
       "      <td>http://theconversation.com/factcheck-did-boat-...</td>\n",
       "      <td>The Conversation</td>\n",
       "      <td>Election factcheck 2016, Federal election 2016...</td>\n",
       "      <td>Did boat arrivals spike around the same time A...</td>\n",
       "      <td>b\"FactCheck: did boat arrivals spike around th...</td>\n",
       "    </tr>\n",
       "    <tr>\n",
       "      <th>19</th>\n",
       "      <td>http://theconversation.com/election-factcheck-...</td>\n",
       "      <td>The Conversation</td>\n",
       "      <td>Election factcheck 2016, Emissions, Federal el...</td>\n",
       "      <td>Is Australia among the only major advanced eco...</td>\n",
       "      <td>b\"Election FactCheck: is Australia among the o...</td>\n",
       "    </tr>\n",
       "    <tr>\n",
       "      <th>20</th>\n",
       "      <td>NaN</td>\n",
       "      <td>NaN</td>\n",
       "      <td>NaN</td>\n",
       "      <td>NaN</td>\n",
       "      <td>b''</td>\n",
       "    </tr>\n",
       "  </tbody>\n",
       "</table>\n",
       "</div>"
      ],
      "text/plain": [
       "                                                 link            source  \\\n",
       "0   http://theconversation.com/election-factcheck-...  The Conversation   \n",
       "1   http://theconversation.com/election-factcheck-...  The Conversation   \n",
       "2   http://theconversation.com/election-factcheck-...  The Conversation   \n",
       "3   http://theconversation.com/election-factcheck-...  The Conversation   \n",
       "4   http://theconversation.com/election-factcheck-...  The Conversation   \n",
       "5   http://theconversation.com/election-factcheck-...  The Conversation   \n",
       "6   http://theconversation.com/election-factcheck-...  The Conversation   \n",
       "7   http://theconversation.com/election-factcheck-...  The Conversation   \n",
       "8   http://theconversation.com/election-factcheck-...  The Conversation   \n",
       "9   http://theconversation.com/election-factcheck-...  The Conversation   \n",
       "10  http://theconversation.com/election-factcheck-...  The Conversation   \n",
       "11                                                NaN               NaN   \n",
       "12  http://theconversation.com/election-factcheck-...  The Conversation   \n",
       "13  http://theconversation.com/election-factcheck-...  The Conversation   \n",
       "14  http://theconversation.com/election-factcheck-...  The Conversation   \n",
       "15  http://theconversation.com/factcheck-was-barna...  The Conversation   \n",
       "16  http://theconversation.com/election-factcheck-...  The Conversation   \n",
       "17  http://theconversation.com/election-factcheck-...  The Conversation   \n",
       "18  http://theconversation.com/factcheck-did-boat-...  The Conversation   \n",
       "19  http://theconversation.com/election-factcheck-...  The Conversation   \n",
       "20                                                NaN               NaN   \n",
       "\n",
       "                                             keywords  \\\n",
       "0   Asylum seekers, Election factcheck, Election f...   \n",
       "1   Coalition, Election factcheck 2016, Federal el...   \n",
       "2   Diagnostic tests, Election factcheck 2016, Hea...   \n",
       "3   Election factcheck, Employment, Federal electi...   \n",
       "4   Australian Charities and not-for-profit Commis...   \n",
       "5   Capital gains tax, Capital gains tax concessio...   \n",
       "6   Climate change, Climate science, Election fact...   \n",
       "7   Bill Shorten, Election factcheck 2016, Employm...   \n",
       "8   Election factcheck 2016, Federal election 2016...   \n",
       "9   Bill Shorten, Debt, Election factcheck 2016, F...   \n",
       "10  Chris Bowen, Election factcheck 2016, Federal ...   \n",
       "11                                                NaN   \n",
       "12  Bill Shorten, Election factcheck 2016, Federal...   \n",
       "13  Election factcheck, Election factcheck 2016, F...   \n",
       "14  Bill Shorten, Election factcheck, Election fac...   \n",
       "15  Barnaby Joyce, Debt, Foreign debt, Public debt...   \n",
       "16  Adam Bandt, Arts funding, Australia Council, E...   \n",
       "17  Election factcheck 2016, Peter Dutton, Refugee...   \n",
       "18  Election factcheck 2016, Federal election 2016...   \n",
       "19  Election factcheck 2016, Emissions, Federal el...   \n",
       "20                                                NaN   \n",
       "\n",
       "                                             headline  \\\n",
       "0   Election FactCheck: Does the government spend ...   \n",
       "1   Has the Coalition invested an average of $5 bi...   \n",
       "2   Has the Coalition cut bulk-billing for patholo...   \n",
       "3   Have 300,000 new jobs been created in the last...   \n",
       "4   Is the Australian Sex Party right about religi...   \n",
       "5   Does the government spend more on negative gea...   \n",
       "6   Are larger, more frequent storms predicted due...   \n",
       "7   Have 50,000 full-time jobs been lost this year...   \n",
       "8   Is it true no solely managed Commonwealth fish...   \n",
       "9   Has $100 billion been added to Australia’s nat...   \n",
       "10  Has the Coalition presided over the most susta...   \n",
       "11                                                NaN   \n",
       "12  Has the government cut $80 billion from school...   \n",
       "13  Is Labor planning to increase taxes by $100 bi...   \n",
       "14  Does Labor have a $19.5b black hole in its fun...   \n",
       "15  Was Barnaby Joyce right about Australia’s debt...   \n",
       "16  Did the Coalition cut $105 million from Austra...   \n",
       "17       Are many refugees illiterate and innumerate?   \n",
       "18  Did boat arrivals spike around the same time A...   \n",
       "19  Is Australia among the only major advanced eco...   \n",
       "20                                                NaN   \n",
       "\n",
       "                                              content  \n",
       "0   b\"Election FactCheck: Does the government spen...  \n",
       "1   b\"Election FactCheck: Has the Coalition invest...  \n",
       "2   b\"Election FactCheck: has the Coalition cut bu...  \n",
       "3   b'Election FactCheck: Have 300,000 new jobs be...  \n",
       "4   b\"Election FactCheck: is the Australian Sex Pa...  \n",
       "5   b\"Election FactCheck Q&A: does the government ...  \n",
       "6   b'Election FactCheck: are larger, more frequen...  \n",
       "7   b\"Election FactCheck: have 50,000 full-time jo...  \n",
       "8   b\"Election FactCheck: is it true no solely man...  \n",
       "9   b\"Election FactCheck: has $100 billion been ad...  \n",
       "10  b\"Election FactCheck: Has the Coalition presid...  \n",
       "11                                                b''  \n",
       "12  b\"Election FactCheck: has the government cut $...  \n",
       "13  b\"Election FactCheck: is Labor planning to inc...  \n",
       "14  b\"Election FactCheck: does Labor have a $19.5b...  \n",
       "15  b\"FactCheck: was Barnaby Joyce right about Aus...  \n",
       "16  b'Election FactCheck: did the Coalition cut $1...  \n",
       "17  b'Election FactCheck: are many refugees illite...  \n",
       "18  b\"FactCheck: did boat arrivals spike around th...  \n",
       "19  b\"Election FactCheck: is Australia among the o...  \n",
       "20                                                b''  "
      ]
     },
     "execution_count": 44,
     "metadata": {},
     "output_type": "execute_result"
    }
   ],
   "source": [
    "content = pd.concat()"
   ]
  },
  {
   "cell_type": "code",
   "execution_count": null,
   "metadata": {
    "collapsed": true
   },
   "outputs": [],
   "source": [
    "soup = BeautifulSoup(somecontent)"
   ]
  }
 ],
 "metadata": {
  "anaconda-cloud": {},
  "kernelspec": {
   "display_name": "Python [Root]",
   "language": "python",
   "name": "Python [Root]"
  },
  "language_info": {
   "codemirror_mode": {
    "name": "ipython",
    "version": 3
   },
   "file_extension": ".py",
   "mimetype": "text/x-python",
   "name": "python",
   "nbconvert_exporter": "python",
   "pygments_lexer": "ipython3",
   "version": "3.5.1"
  }
 },
 "nbformat": 4,
 "nbformat_minor": 0
}
