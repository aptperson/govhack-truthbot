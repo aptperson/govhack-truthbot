{
 "cells": [
  {
   "cell_type": "code",
   "execution_count": null,
   "metadata": {
    "collapsed": true
   },
   "outputs": [],
   "source": [
    "from bs4 import BeautifulSoup\n",
    "import requests\n",
    "import pandas as pd\n",
    "import json"
   ]
  },
  {
   "cell_type": "code",
   "execution_count": 3,
   "metadata": {
    "collapsed": false
   },
   "outputs": [
    {
     "name": "stderr",
     "output_type": "stream",
     "text": [
      "C:\\Anaconda3\\lib\\site-packages\\bs4\\__init__.py:166: UserWarning: No parser was explicitly specified, so I'm using the best available HTML parser for this system (\"lxml\"). This usually isn't a problem, but if you run this code on another system, or in a different virtual environment, it may use a different parser and behave differently.\n",
      "\n",
      "To get rid of this warning, change this:\n",
      "\n",
      " BeautifulSoup([your markup])\n",
      "\n",
      "to this:\n",
      "\n",
      " BeautifulSoup([your markup], \"lxml\")\n",
      "\n",
      "  markup_type=markup_type))\n"
     ]
    }
   ],
   "source": [
    "explainers = BeautifulSoup(requests.get(\"http://theconversation.com/au/factcheck\").text)"
   ]
  },
  {
   "cell_type": "code",
   "execution_count": 4,
   "metadata": {
    "collapsed": true
   },
   "outputs": [],
   "source": [
    "headlines = explainers.find_all('h2')"
   ]
  },
  {
   "cell_type": "code",
   "execution_count": 5,
   "metadata": {
    "collapsed": false
   },
   "outputs": [],
   "source": [
    "results = list()"
   ]
  },
  {
   "cell_type": "code",
   "execution_count": 6,
   "metadata": {
    "collapsed": false
   },
   "outputs": [],
   "source": [
    "for headline in headlines:\n",
    "    thisline = dict()\n",
    "    try:\n",
    "        link = \"http://theconversation.com\" + headline.a['href']\n",
    "        thisline['headline'] = headline.text\n",
    "        thisline['content'] = requests.get(link).text\n",
    "        thisline['link'] = link\n",
    "    except:\n",
    "        pass\n",
    "    results.append(thisline)"
   ]
  },
  {
   "cell_type": "code",
   "execution_count": 7,
   "metadata": {
    "collapsed": true
   },
   "outputs": [
    {
     "name": "stderr",
     "output_type": "stream",
     "text": [
      "C:\\Anaconda3\\lib\\site-packages\\bs4\\__init__.py:166: UserWarning: No parser was explicitly specified, so I'm using the best available HTML parser for this system (\"lxml\"). This usually isn't a problem, but if you run this code on another system, or in a different virtual environment, it may use a different parser and behave differently.\n",
      "\n",
      "To get rid of this warning, change this:\n",
      "\n",
      " BeautifulSoup([your markup])\n",
      "\n",
      "to this:\n",
      "\n",
      " BeautifulSoup([your markup], \"lxml\")\n",
      "\n",
      "  markup_type=markup_type))\n"
     ]
    }
   ],
   "source": [
    "abcexplainers = BeautifulSoup(requests.get('http://www.abc.net.au/news/factcheck/zombies/').text)"
   ]
  },
  {
   "cell_type": "code",
   "execution_count": 8,
   "metadata": {
    "collapsed": false,
    "scrolled": false
   },
   "outputs": [],
   "source": [
    "links = abcexplainers.find_all(\"a\")"
   ]
  },
  {
   "cell_type": "code",
   "execution_count": null,
   "metadata": {
    "collapsed": false
   },
   "outputs": [],
   "source": [
    "thisline = list()\n",
    "for link in links:\n",
    "    if \"Fact Check zombie\" in link.text:\n",
    "        abcid = link['href'].split('/')[-1]\n",
    "        url = \"https://content-api-govhack.abc-prod.net.au/v1/\" + abcid\n",
    "        content = requests.get(url).text\n",
    "        jsondoc = json.loads(content)\n",
    "        thisline.append(jsondoc)"
   ]
  },
  {
   "cell_type": "code",
   "execution_count": 15,
   "metadata": {
    "collapsed": false
   },
   "outputs": [],
   "source": [
    "df = pd.DataFrame(results)"
   ]
  },
  {
   "cell_type": "code",
   "execution_count": 16,
   "metadata": {
    "collapsed": false
   },
   "outputs": [
    {
     "data": {
      "text/html": [
       "<div>\n",
       "<table border=\"1\" class=\"dataframe\">\n",
       "  <thead>\n",
       "    <tr style=\"text-align: right;\">\n",
       "      <th></th>\n",
       "      <th>content</th>\n",
       "      <th>headline</th>\n",
       "      <th>link</th>\n",
       "    </tr>\n",
       "  </thead>\n",
       "  <tbody>\n",
       "    <tr>\n",
       "      <th>0</th>\n",
       "      <td>&lt;!DOCTYPE html&gt;\\n&lt;!--[if IE 7]&gt;    &lt;html class...</td>\n",
       "      <td>Election FactCheck: Does the government spend ...</td>\n",
       "      <td>http://theconversation.com/election-factcheck-...</td>\n",
       "    </tr>\n",
       "    <tr>\n",
       "      <th>1</th>\n",
       "      <td>&lt;!DOCTYPE html&gt;\\n&lt;!--[if IE 7]&gt;    &lt;html class...</td>\n",
       "      <td>Has the Coalition invested an average of $5 bi...</td>\n",
       "      <td>http://theconversation.com/election-factcheck-...</td>\n",
       "    </tr>\n",
       "    <tr>\n",
       "      <th>2</th>\n",
       "      <td>&lt;!DOCTYPE html&gt;\\n&lt;!--[if IE 7]&gt;    &lt;html class...</td>\n",
       "      <td>Has the Coalition cut bulk-billing for patholo...</td>\n",
       "      <td>http://theconversation.com/election-factcheck-...</td>\n",
       "    </tr>\n",
       "    <tr>\n",
       "      <th>3</th>\n",
       "      <td>&lt;!DOCTYPE html&gt;\\n&lt;!--[if IE 7]&gt;    &lt;html class...</td>\n",
       "      <td>Have 300,000 new jobs been created in the last...</td>\n",
       "      <td>http://theconversation.com/election-factcheck-...</td>\n",
       "    </tr>\n",
       "    <tr>\n",
       "      <th>4</th>\n",
       "      <td>&lt;!DOCTYPE html&gt;\\n&lt;!--[if IE 7]&gt;    &lt;html class...</td>\n",
       "      <td>Is the Australian Sex Party right about religi...</td>\n",
       "      <td>http://theconversation.com/election-factcheck-...</td>\n",
       "    </tr>\n",
       "    <tr>\n",
       "      <th>5</th>\n",
       "      <td>&lt;!DOCTYPE html&gt;\\n&lt;!--[if IE 7]&gt;    &lt;html class...</td>\n",
       "      <td>Does the government spend more on negative gea...</td>\n",
       "      <td>http://theconversation.com/election-factcheck-...</td>\n",
       "    </tr>\n",
       "    <tr>\n",
       "      <th>6</th>\n",
       "      <td>&lt;!DOCTYPE html&gt;\\n&lt;!--[if IE 7]&gt;    &lt;html class...</td>\n",
       "      <td>Are larger, more frequent storms predicted due...</td>\n",
       "      <td>http://theconversation.com/election-factcheck-...</td>\n",
       "    </tr>\n",
       "    <tr>\n",
       "      <th>7</th>\n",
       "      <td>&lt;!DOCTYPE html&gt;\\n&lt;!--[if IE 7]&gt;    &lt;html class...</td>\n",
       "      <td>Have 50,000 full-time jobs been lost this year...</td>\n",
       "      <td>http://theconversation.com/election-factcheck-...</td>\n",
       "    </tr>\n",
       "    <tr>\n",
       "      <th>8</th>\n",
       "      <td>&lt;!DOCTYPE html&gt;\\n&lt;!--[if IE 7]&gt;    &lt;html class...</td>\n",
       "      <td>Is it true no solely managed Commonwealth fish...</td>\n",
       "      <td>http://theconversation.com/election-factcheck-...</td>\n",
       "    </tr>\n",
       "    <tr>\n",
       "      <th>9</th>\n",
       "      <td>&lt;!DOCTYPE html&gt;\\n&lt;!--[if IE 7]&gt;    &lt;html class...</td>\n",
       "      <td>Has $100 billion been added to Australia’s nat...</td>\n",
       "      <td>http://theconversation.com/election-factcheck-...</td>\n",
       "    </tr>\n",
       "    <tr>\n",
       "      <th>10</th>\n",
       "      <td>&lt;!DOCTYPE html&gt;\\n&lt;!--[if IE 7]&gt;    &lt;html class...</td>\n",
       "      <td>Has the Coalition presided over the most susta...</td>\n",
       "      <td>http://theconversation.com/election-factcheck-...</td>\n",
       "    </tr>\n",
       "    <tr>\n",
       "      <th>11</th>\n",
       "      <td>NaN</td>\n",
       "      <td>NaN</td>\n",
       "      <td>NaN</td>\n",
       "    </tr>\n",
       "    <tr>\n",
       "      <th>12</th>\n",
       "      <td>&lt;!DOCTYPE html&gt;\\n&lt;!--[if IE 7]&gt;    &lt;html class...</td>\n",
       "      <td>Has the government cut $80 billion from school...</td>\n",
       "      <td>http://theconversation.com/election-factcheck-...</td>\n",
       "    </tr>\n",
       "    <tr>\n",
       "      <th>13</th>\n",
       "      <td>&lt;!DOCTYPE html&gt;\\n&lt;!--[if IE 7]&gt;    &lt;html class...</td>\n",
       "      <td>Is Labor planning to increase taxes by $100 bi...</td>\n",
       "      <td>http://theconversation.com/election-factcheck-...</td>\n",
       "    </tr>\n",
       "    <tr>\n",
       "      <th>14</th>\n",
       "      <td>&lt;!DOCTYPE html&gt;\\n&lt;!--[if IE 7]&gt;    &lt;html class...</td>\n",
       "      <td>Does Labor have a $19.5b black hole in its fun...</td>\n",
       "      <td>http://theconversation.com/election-factcheck-...</td>\n",
       "    </tr>\n",
       "    <tr>\n",
       "      <th>15</th>\n",
       "      <td>&lt;!DOCTYPE html&gt;\\n&lt;!--[if IE 7]&gt;    &lt;html class...</td>\n",
       "      <td>Was Barnaby Joyce right about Australia’s debt...</td>\n",
       "      <td>http://theconversation.com/factcheck-was-barna...</td>\n",
       "    </tr>\n",
       "    <tr>\n",
       "      <th>16</th>\n",
       "      <td>&lt;!DOCTYPE html&gt;\\n&lt;!--[if IE 7]&gt;    &lt;html class...</td>\n",
       "      <td>Did the Coalition cut $105 million from Austra...</td>\n",
       "      <td>http://theconversation.com/election-factcheck-...</td>\n",
       "    </tr>\n",
       "    <tr>\n",
       "      <th>17</th>\n",
       "      <td>&lt;!DOCTYPE html&gt;\\n&lt;!--[if IE 7]&gt;    &lt;html class...</td>\n",
       "      <td>Are many refugees illiterate and innumerate?</td>\n",
       "      <td>http://theconversation.com/election-factcheck-...</td>\n",
       "    </tr>\n",
       "    <tr>\n",
       "      <th>18</th>\n",
       "      <td>&lt;!DOCTYPE html&gt;\\n&lt;!--[if IE 7]&gt;    &lt;html class...</td>\n",
       "      <td>Did boat arrivals spike around the same time A...</td>\n",
       "      <td>http://theconversation.com/factcheck-did-boat-...</td>\n",
       "    </tr>\n",
       "    <tr>\n",
       "      <th>19</th>\n",
       "      <td>&lt;!DOCTYPE html&gt;\\n&lt;!--[if IE 7]&gt;    &lt;html class...</td>\n",
       "      <td>Is Australia among the only major advanced eco...</td>\n",
       "      <td>http://theconversation.com/election-factcheck-...</td>\n",
       "    </tr>\n",
       "    <tr>\n",
       "      <th>20</th>\n",
       "      <td>NaN</td>\n",
       "      <td>NaN</td>\n",
       "      <td>NaN</td>\n",
       "    </tr>\n",
       "  </tbody>\n",
       "</table>\n",
       "</div>"
      ],
      "text/plain": [
       "                                              content  \\\n",
       "0   <!DOCTYPE html>\\n<!--[if IE 7]>    <html class...   \n",
       "1   <!DOCTYPE html>\\n<!--[if IE 7]>    <html class...   \n",
       "2   <!DOCTYPE html>\\n<!--[if IE 7]>    <html class...   \n",
       "3   <!DOCTYPE html>\\n<!--[if IE 7]>    <html class...   \n",
       "4   <!DOCTYPE html>\\n<!--[if IE 7]>    <html class...   \n",
       "5   <!DOCTYPE html>\\n<!--[if IE 7]>    <html class...   \n",
       "6   <!DOCTYPE html>\\n<!--[if IE 7]>    <html class...   \n",
       "7   <!DOCTYPE html>\\n<!--[if IE 7]>    <html class...   \n",
       "8   <!DOCTYPE html>\\n<!--[if IE 7]>    <html class...   \n",
       "9   <!DOCTYPE html>\\n<!--[if IE 7]>    <html class...   \n",
       "10  <!DOCTYPE html>\\n<!--[if IE 7]>    <html class...   \n",
       "11                                                NaN   \n",
       "12  <!DOCTYPE html>\\n<!--[if IE 7]>    <html class...   \n",
       "13  <!DOCTYPE html>\\n<!--[if IE 7]>    <html class...   \n",
       "14  <!DOCTYPE html>\\n<!--[if IE 7]>    <html class...   \n",
       "15  <!DOCTYPE html>\\n<!--[if IE 7]>    <html class...   \n",
       "16  <!DOCTYPE html>\\n<!--[if IE 7]>    <html class...   \n",
       "17  <!DOCTYPE html>\\n<!--[if IE 7]>    <html class...   \n",
       "18  <!DOCTYPE html>\\n<!--[if IE 7]>    <html class...   \n",
       "19  <!DOCTYPE html>\\n<!--[if IE 7]>    <html class...   \n",
       "20                                                NaN   \n",
       "\n",
       "                                             headline  \\\n",
       "0   Election FactCheck: Does the government spend ...   \n",
       "1   Has the Coalition invested an average of $5 bi...   \n",
       "2   Has the Coalition cut bulk-billing for patholo...   \n",
       "3   Have 300,000 new jobs been created in the last...   \n",
       "4   Is the Australian Sex Party right about religi...   \n",
       "5   Does the government spend more on negative gea...   \n",
       "6   Are larger, more frequent storms predicted due...   \n",
       "7   Have 50,000 full-time jobs been lost this year...   \n",
       "8   Is it true no solely managed Commonwealth fish...   \n",
       "9   Has $100 billion been added to Australia’s nat...   \n",
       "10  Has the Coalition presided over the most susta...   \n",
       "11                                                NaN   \n",
       "12  Has the government cut $80 billion from school...   \n",
       "13  Is Labor planning to increase taxes by $100 bi...   \n",
       "14  Does Labor have a $19.5b black hole in its fun...   \n",
       "15  Was Barnaby Joyce right about Australia’s debt...   \n",
       "16  Did the Coalition cut $105 million from Austra...   \n",
       "17       Are many refugees illiterate and innumerate?   \n",
       "18  Did boat arrivals spike around the same time A...   \n",
       "19  Is Australia among the only major advanced eco...   \n",
       "20                                                NaN   \n",
       "\n",
       "                                                 link  \n",
       "0   http://theconversation.com/election-factcheck-...  \n",
       "1   http://theconversation.com/election-factcheck-...  \n",
       "2   http://theconversation.com/election-factcheck-...  \n",
       "3   http://theconversation.com/election-factcheck-...  \n",
       "4   http://theconversation.com/election-factcheck-...  \n",
       "5   http://theconversation.com/election-factcheck-...  \n",
       "6   http://theconversation.com/election-factcheck-...  \n",
       "7   http://theconversation.com/election-factcheck-...  \n",
       "8   http://theconversation.com/election-factcheck-...  \n",
       "9   http://theconversation.com/election-factcheck-...  \n",
       "10  http://theconversation.com/election-factcheck-...  \n",
       "11                                                NaN  \n",
       "12  http://theconversation.com/election-factcheck-...  \n",
       "13  http://theconversation.com/election-factcheck-...  \n",
       "14  http://theconversation.com/election-factcheck-...  \n",
       "15  http://theconversation.com/factcheck-was-barna...  \n",
       "16  http://theconversation.com/election-factcheck-...  \n",
       "17  http://theconversation.com/election-factcheck-...  \n",
       "18  http://theconversation.com/factcheck-did-boat-...  \n",
       "19  http://theconversation.com/election-factcheck-...  \n",
       "20                                                NaN  "
      ]
     },
     "execution_count": 16,
     "metadata": {},
     "output_type": "execute_result"
    }
   ],
   "source": [
    "df"
   ]
  },
  {
   "cell_type": "code",
   "execution_count": 18,
   "metadata": {
    "collapsed": true
   },
   "outputs": [],
   "source": [
    "df.to_pickle('explainers.pickle')"
   ]
  },
  {
   "cell_type": "code",
   "execution_count": null,
   "metadata": {
    "collapsed": true
   },
   "outputs": [],
   "source": []
  }
 ],
 "metadata": {
  "anaconda-cloud": {},
  "kernelspec": {
   "display_name": "Python [Root]",
   "language": "python",
   "name": "Python [Root]"
  },
  "language_info": {
   "codemirror_mode": {
    "name": "ipython",
    "version": 3
   },
   "file_extension": ".py",
   "mimetype": "text/x-python",
   "name": "python",
   "nbconvert_exporter": "python",
   "pygments_lexer": "ipython3",
   "version": "3.5.1"
  }
 },
 "nbformat": 4,
 "nbformat_minor": 0
}
